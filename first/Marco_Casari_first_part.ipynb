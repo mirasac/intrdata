{
 "cells": [
  {
   "cell_type": "markdown",
   "metadata": {},
   "source": [
    "# Introduction to data analysis for natural and social sciences\n",
    "This notebook contitutes the first part of the exam. Here the initial simulations in article \"Patient-specific Boolean models of signalling networks guide personalised treatments\" are performed and some results regarding Boolean models reproduced.\n",
    "\n",
    "Referenced content and data belong to version 2 of the article, published April 18, 2022."
   ]
  },
  {
   "cell_type": "markdown",
   "metadata": {},
   "source": [
    "## Imports and global settings"
   ]
  },
  {
   "cell_type": "code",
   "execution_count": 60,
   "metadata": {},
   "outputs": [],
   "source": [
    "import biolqm\n",
    "import ginsim\n",
    "import matplotlib.pyplot as plt\n",
    "import numpy as np\n",
    "import pandas as pd\n",
    "\n",
    "PATH_REPORT = \"report\"\n",
    "\n",
    "EXT_EXCEL = \"xlsx\"\n",
    "EXT_TAB = \"tsv\""
   ]
  },
  {
   "cell_type": "markdown",
   "metadata": {},
   "source": [
    "# Prostate Boolean model construction\n",
    "The Boolean model is constructed starting from information available in literature. Then further pathways are identified by the use of software ROMA and pypath and they are added to the existing network.\n",
    "\n",
    "The authors collected all data regarding the network, such as nodes, their role, logical rules, in the two following Excel files:"
   ]
  },
  {
   "cell_type": "code",
   "execution_count": 61,
   "metadata": {},
   "outputs": [],
   "source": [
    "fname_nodes_pathways = \"Montagud2022_nodes in pathways.xlsx\"\n",
    "fname_nodes_network = \"Montagud2022_interactions_sources.xlsx\""
   ]
  },
  {
   "cell_type": "markdown",
   "metadata": {},
   "source": [
    "Data are loaded in Pandas dataframes to make their manipulation easier."
   ]
  },
  {
   "cell_type": "code",
   "execution_count": 62,
   "metadata": {},
   "outputs": [],
   "source": [
    "df_nodes_pathways = pd.read_excel(\n",
    "    io=f\"{PATH_REPORT}/{fname_nodes_pathways}\",\n",
    "    header=None,\n",
    "    names=[\"node\", \"pathway\"]\n",
    ")\n",
    "sheet_interactions = \"Nodes\"\n",
    "df_nodes_interactions = pd.read_excel(\n",
    "    io=f\"{PATH_REPORT}/{fname_nodes_network}\",\n",
    "    sheet_name=sheet_interactions,\n",
    "    header=1,\n",
    "    converters={\"Reference: PMID\": lambda c: np.str_(c).strip()}  # Remove a useless line break in a cell.\n",
    ")\n",
    "sheet_unique=\"Nodes_unique\"\n",
    "df_nodes_unique = pd.read_excel(\n",
    "    io=f\"{PATH_REPORT}/{fname_nodes_network}\",\n",
    "    sheet_name=sheet_unique\n",
    ")"
   ]
  },
  {
   "cell_type": "markdown",
   "metadata": {},
   "source": [
    "## Data exploration\n",
    "In this section some operations on the imported data are performed to have a better understanding about their organisation.\n",
    "\n",
    "### Check consistency between different sources\n",
    "One single logical rule is associated to each node. In fact, the result of grouping by node and logical rule is a list of 133 rows, which is the number of nodes of the network."
   ]
  },
  {
   "cell_type": "code",
   "execution_count": 63,
   "metadata": {},
   "outputs": [],
   "source": [
    "df_count = df_nodes_interactions.groupby([\"Target node\", \"Logical rule\"]).count()\n",
    "display(df_count)"
   ]
  },
  {
   "cell_type": "code",
   "execution_count": 64,
   "metadata": {
    "tags": [
     "remove-cell"
    ]
   },
   "outputs": [],
   "source": [
    "# df_nodes_unique contains only 121 nodes and not 133 as df_nodes_pathways.\n",
    "# In other words, df_nodes_unique[\"Node\"] should be a subset of df_nodes_pathways[\"node\"].\n",
    "# Why is that? Let's find out.\n",
    "\n",
    "df = df_nodes_pathways.set_index(\"node\")\n",
    "df_subset = df_nodes_unique.set_index(\"Node\")\n",
    "\n",
    "# The input nodes should be all removed since they are not regulated (by authors' design),\n",
    "# hence they are not part of any pathway. But this is not what happens.\n",
    "display(df.loc[df[\"pathway\"] == \"Input\"])\n",
    "display(df.drop(labels=df_subset.index, errors=\"ignore\"))\n",
    "\n",
    "# Moreover, in df_nodes_unique there is a node called MAX which is not part of the nodes considered for the final network.\n",
    "# Surprisingly, it is not present among the nodes in df_nodes_interactions.\n",
    "try:\n",
    "    df.drop(labels=df_subset.index)\n",
    "except Exception as e:\n",
    "    print(e)\n",
    "finally:\n",
    "    del df\n",
    "    del df_subset\n",
    "\n",
    "# In conclusion, it seems that the choice of nodes from the Excel files can not be deduced directly\n",
    "# just from the observation of the content of the files.\n",
    "# In particular, I should use data in df_nodes_unique with caution,\n",
    "# since their relation with the other data is not straightforward."
   ]
  },
  {
   "cell_type": "markdown",
   "metadata": {},
   "source": [
    "### Data export to Cytoscape\n",
    "Data about nodes are exported in files with tab-separated values (TSV) format. Exported data can be imported in Cytoscape for later use."
   ]
  },
  {
   "cell_type": "code",
   "execution_count": 65,
   "metadata": {},
   "outputs": [],
   "source": [
    "name_nodes_pathways = fname_nodes_pathways.removesuffix(f\".{EXT_EXCEL}\")\n",
    "name_nodes_network = fname_nodes_network.removesuffix(f\".{EXT_EXCEL}\")\n",
    "\n",
    "df_nodes_pathways.to_csv(\n",
    "    path_or_buf=f\"{name_nodes_pathways}.{EXT_TAB}\",\n",
    "    sep='\\t',\n",
    "    index=False\n",
    ")\n",
    "df_nodes_interactions.to_csv(\n",
    "    path_or_buf=f\"{name_nodes_network}_{sheet_interactions}.{EXT_TAB}\",\n",
    "    sep='\\t',\n",
    "    index=False\n",
    ")\n",
    "df_nodes_unique.to_csv(\n",
    "    path_or_buf=f\"{name_nodes_network}_{sheet_unique}.{EXT_TAB}\",\n",
    "    sep='\\t',\n",
    "    index=False\n",
    ")"
   ]
  },
  {
   "cell_type": "markdown",
   "metadata": {},
   "source": [
    "Data needed to recreate the network can be saved in a single file, which contains data about interactions, logical rules and pathways. A note on data imported in Cytoscape using this file: node \"0/1\" should be hidden because it is generated by the software as source node for the input nodes."
   ]
  },
  {
   "cell_type": "code",
   "execution_count": 66,
   "metadata": {},
   "outputs": [],
   "source": [
    "df_cytoscape = df_nodes_interactions.join(\n",
    "    other=df_nodes_pathways.set_index(\"node\"),\n",
    "    on=\"Target node\"\n",
    ")\n",
    "df_cytoscape.to_csv(\n",
    "    path_or_buf=f\"cytoscape_data.{EXT_TAB}\",\n",
    "    sep='\\t',\n",
    "    index=False\n",
    ")"
   ]
  },
  {
   "cell_type": "markdown",
   "metadata": {},
   "source": [
    "To build the regulatory network, GINsim is used by the authors. The resulting network is exported as ZGINML file, available in the Supplementary file 1 with file name `fname_model`. The file is then imported in Cytoscape for visual improvement."
   ]
  },
  {
   "cell_type": "code",
   "execution_count": 67,
   "metadata": {},
   "outputs": [],
   "source": [
    "fname_model = \"Montagud2022_Prostate_Cancer.zginml\""
   ]
  },
  {
   "cell_type": "markdown",
   "metadata": {},
   "source": [
    "### Comparison with reference network\n",
    "Only nine nodes are referred as proper inputs in the article (cfr. Appendix 1.2.3). The remaining two are \"fused_event\" and \"SPOP\". Node \"fused_event\" is present to consider the condition of fusion with gene ERG and is added manually based on existing literature (cfr. Appendix 1.1.5). Node \"SPOP\" is present to consider mutations of gene SPOP which are frequent in prostate cancer (cfr. Appendix 1.1.2).\n",
    "\n",
    "The following are supplied data regarding each of these nodes."
   ]
  },
  {
   "cell_type": "code",
   "execution_count": 68,
   "metadata": {
    "scrolled": false
   },
   "outputs": [],
   "source": [
    "display(df_nodes_interactions.loc[df_nodes_interactions[\"Target node\"] == \"fused_event\"])\n",
    "display(df_nodes_interactions.loc[df_nodes_interactions[\"Source\"] == \"fused_event\"])\n",
    "\n",
    "display(df_nodes_interactions.loc[df_nodes_interactions[\"Target node\"] == \"SPOP\"])\n",
    "display(df_nodes_interactions.loc[df_nodes_interactions[\"Source\"] == \"SPOP\"])"
   ]
  },
  {
   "cell_type": "markdown",
   "metadata": {},
   "source": [
    "### Network visualisation with GINsim<a id=\"sec:network_visualisation_with_ginsim\"></a>\n",
    "The GINsim model can be used directly for some tasks and all the information are contained in the ZGINML file. For instance the whole network can be displayed."
   ]
  },
  {
   "cell_type": "code",
   "execution_count": 69,
   "metadata": {
    "scrolled": false
   },
   "outputs": [],
   "source": [
    "ginsim_model = ginsim.load(f\"{PATH_REPORT}/{fname_model}\")\n",
    "\n",
    "ginsim.show(ginsim_model)"
   ]
  },
  {
   "cell_type": "markdown",
   "metadata": {},
   "source": [
    "### Variation from reference for interactions of node \"SPOP\"\n",
    "Inspecting imported data, node \"SPOP\" turns out to be an inhibitor for only three of its four children nodes (i.e. negative interaction type), but in the reference network all four interactions are set as inhibiting, following the respective logical rules.\n",
    "\n",
    "This difference can be seen comparing the nodes from the Excel files which have \"SPOP\" as source node and the plot of the network loaded from the ZGINML file, made for example with GINsim (cfr. notebook section [Network visualisation with GINsim](#sec:network_visualisation_with_ginsim)).\n",
    "\n",
    "Logical rules show the correct behaviour."
   ]
  },
  {
   "cell_type": "code",
   "execution_count": 70,
   "metadata": {},
   "outputs": [],
   "source": [
    "pat_old = pd.get_option(\"display.max_colwidth\")\n",
    "pd.set_option(\"display.max_colwidth\", None)\n",
    "display(df_nodes_interactions.loc[df_nodes_interactions[\"Source\"] == \"SPOP\", (\"Target node\", \"Interaction type\", \"Description\")])\n",
    "pd.set_option(\"display.max_colwidth\", pat_old)\n",
    "del pat_old"
   ]
  },
  {
   "cell_type": "markdown",
   "metadata": {},
   "source": [
    "### Stable states evaluation with bioLQM\n",
    "The stable states of the model can be found exactly. Here this task is performed by bioLQM."
   ]
  },
  {
   "cell_type": "code",
   "execution_count": 71,
   "metadata": {},
   "outputs": [],
   "source": [
    "biolqm_model = ginsim.to_biolqm(ginsim_model)\n",
    "#biolqm_fixpoints = biolqm.fixpoints(biolqm_model)  # Comment out to speed up the execution of the notebook."
   ]
  },
  {
   "cell_type": "markdown",
   "metadata": {},
   "source": [
    "# Prostate Boolean model simulation\n",
    "To perform simulations using the Boolean model, MaBoSS is used. First, configurations and information about the model are extracted from the GINsim model, then the number of trajectories and other configurations are set."
   ]
  },
  {
   "cell_type": "code",
   "execution_count": 73,
   "metadata": {},
   "outputs": [],
   "source": [
    "maboss_model = ginsim.to_maboss(ginsim_model)\n",
    "\n",
    "maboss_model.update_parameters(\n",
    "    max_time=30,\n",
    "    sample_count=5000\n",
    ")"
   ]
  },
  {
   "cell_type": "markdown",
   "metadata": {},
   "source": [
    "## Wild type simulation\n",
    "Specific configurations can be applied to the network and the resulting model can be used to simulate prostate cells under physiological conditions. This model is called by the authors \"wild type model\".\n",
    "\n",
    "Simulations using wild type model set inactive initial state to output nodes, active initial state to some input states as specified in the following examples and random initial state to the remaining nodes.\n",
    "\n",
    "For the first simulation, input nodes of the network have initial state inactive and only some of the output nodes are chosen as outputs of the simulation."
   ]
  },
  {
   "cell_type": "code",
   "execution_count": 74,
   "metadata": {},
   "outputs": [],
   "source": [
    "maboss_wtA_model = maboss_model.copy()\n",
    "\n",
    "for node in maboss_wtA_model.network:\n",
    "    maboss_wtA_model.network.set_istate(node, [0.5, 0.5])\n",
    "\n",
    "inactives_wtA = df_nodes_pathways.loc[\n",
    "    (df_nodes_pathways[\"pathway\"] == \"Input\") | (df_nodes_pathways[\"pathway\"] == \"Output\")\n",
    "][\"node\"].tolist()\n",
    "for node in inactives_wtA:\n",
    "    maboss_wtA_model.network.set_istate(node, [1, 0])\n",
    "\n",
    "outputs_wtA = [\"Apoptosis\", \"DNA_Repair\", \"Metastasis\", \"Proliferation\"]\n",
    "maboss_wtA_model.network.set_output(outputs_wtA)"
   ]
  },
  {
   "cell_type": "markdown",
   "metadata": {},
   "source": [
    "The result of the simulation is a plot of trajectories of probabilities of given phenotypes (i.e. the output of the simulation)."
   ]
  },
  {
   "cell_type": "code",
   "execution_count": 75,
   "metadata": {
    "scrolled": false
   },
   "outputs": [],
   "source": [
    "maboss_wtA_result = maboss_wtA_model.run()\n",
    "\n",
    "maboss_wtA_result.get_nodes_probtraj().plot(\n",
    "    legend=True,\n",
    "    xlabel=\"Time (a.u.)\",\n",
    "    ylabel=\"Node activity (%)\"\n",
    ")\n",
    "plt.savefig(\"3A.pdf\")"
   ]
  },
  {
   "cell_type": "markdown",
   "metadata": {},
   "source": [
    "The second simulation has input nodes in list `actives_wtB` active from the start. Moreover node \"SPOP\" is set with random initial state.\n",
    "\n",
    "Phenotypes of the second simulation are listed in variable `outputs_wtB` and includes some intermediate nodes other than some output nodes."
   ]
  },
  {
   "cell_type": "code",
   "execution_count": 76,
   "metadata": {},
   "outputs": [],
   "source": [
    "maboss_wtB_model = maboss_wtA_model.copy()\n",
    "\n",
    "actives_wtB = [\"EGF\", \"FGF\", \"Nutrients\", \"Androgen\"]\n",
    "for node in actives_wtB:\n",
    "    maboss_wtB_model.network.set_istate(node, [0, 1])\n",
    "maboss_wtB_model.network.set_istate(\"SPOP\", [0.5, 0.5])\n",
    "\n",
    "outputs_wtB = [\"Apoptosis\", \"CyclinD\", \"E2F1\", \"Metastasis\", \"Proliferation\", \"p53\"]\n",
    "maboss_wtB_model.network.set_output(outputs_wtB)"
   ]
  },
  {
   "cell_type": "markdown",
   "metadata": {},
   "source": [
    "The trajectory plot of the second simulation is:"
   ]
  },
  {
   "cell_type": "code",
   "execution_count": 77,
   "metadata": {
    "scrolled": false
   },
   "outputs": [],
   "source": [
    "maboss_wtB_result = maboss_wtB_model.run()\n",
    "\n",
    "maboss_wtB_result.get_nodes_probtraj().plot(\n",
    "    legend=True,\n",
    "    xlabel=\"Time (a.u.)\",\n",
    "    ylabel=\"Node activity (%)\"\n",
    ")\n",
    "plt.savefig(\"3B.pdf\")"
   ]
  },
  {
   "cell_type": "markdown",
   "metadata": {},
   "source": [
    "The third simulation is executed with initial state active for the nodes in list `actives_wtC` and the output nodes are the same of the second simulation."
   ]
  },
  {
   "cell_type": "code",
   "execution_count": 78,
   "metadata": {},
   "outputs": [],
   "source": [
    "maboss_wtC_model = maboss_wtA_model.copy()\n",
    "\n",
    "actives_wtC = [\"Carcinogen\", \"Androgen\", \"TNFalpha\", \"Acidosis\", \"Hypoxia\"]\n",
    "for node in actives_wtC:\n",
    "    maboss_wtC_model.network.set_istate(node, [0, 1])\n",
    "\n",
    "maboss_wtC_model.network.set_output(outputs_wtB)"
   ]
  },
  {
   "cell_type": "markdown",
   "metadata": {},
   "source": [
    "The trajectory plot of the third simulation is:"
   ]
  },
  {
   "cell_type": "code",
   "execution_count": 79,
   "metadata": {},
   "outputs": [],
   "source": [
    "maboss_wtC_result = maboss_wtC_model.run()\n",
    "\n",
    "maboss_wtC_result.get_nodes_probtraj().plot(\n",
    "    legend=True,\n",
    "    xlabel=\"Time (a.u.)\",\n",
    "    ylabel=\"Node activity (%)\"\n",
    ")\n",
    "plt.savefig(\"3C.pdf\")"
   ]
  },
  {
   "cell_type": "markdown",
   "metadata": {},
   "source": [
    "## Model validation\n",
    "The model is validated by simulating some known interactions between genes in prostate cells under physiological conditions.\n",
    "\n",
    "For example the order of events during cell cycle is tested. In this case the initial conditions are active growth factors and nutrients, along with nodes related to the activation of the cell cycle, while the cyclins start inactive. All the other nodes have random initial state. The outputs are list in variable `outputs_cellcycle`."
   ]
  },
  {
   "cell_type": "code",
   "execution_count": 80,
   "metadata": {},
   "outputs": [],
   "source": [
    "maboss_cellcycle_model = maboss_wtA_model.copy()\n",
    "\n",
    "actives_cellcycle = [\"EGF\", \"FGF\", \"Nutrients\", \"p21\", \"RB1\"]\n",
    "for node in actives_cellcycle:\n",
    "    maboss_cellcycle_model.network.set_istate(node, [0, 1])\n",
    "\n",
    "inactives_cellcycle = [\"CyclinB\", \"CyclinD\", \"E2F1\"]\n",
    "for node in inactives_cellcycle:\n",
    "    maboss_cellcycle_model.network.set_istate(node, [1, 0])\n",
    "\n",
    "outputs_cellcycle = [\"CyclinB\", \"CyclinD\", \"E2F1\", \"Proliferation\"]\n",
    "maboss_cellcycle_model.network.set_output(outputs_cellcycle)"
   ]
  },
  {
   "cell_type": "markdown",
   "metadata": {},
   "source": [
    "The result of the simulation are the following trajectories:"
   ]
  },
  {
   "cell_type": "code",
   "execution_count": 81,
   "metadata": {},
   "outputs": [],
   "source": [
    "maboss_cellcycle_result = maboss_cellcycle_model.run()\n",
    "\n",
    "maboss_cellcycle_result.get_nodes_probtraj().plot(\n",
    "    legend=True,\n",
    "    xlabel=\"Time (a.u.)\",\n",
    "    ylabel=\"Cell Cycle activation (node probabilities)\"\n",
    ")\n",
    "plt.savefig(\"5.pdf\")"
   ]
  },
  {
   "cell_type": "markdown",
   "metadata": {},
   "source": [
    "## Mutants simulation\n",
    "The model can be used to study the effect of mutations which activate or disable some nodes, or in general which deviate their functioning from physiological conditions.\n",
    "\n",
    "### Single mutations\n",
    "One case is the permanent inactivation of node \"FOXA1\". Except for the mutation, this simulation has the same initial conditions as the wild type model and all the output nodes are observed as phenotypes."
   ]
  },
  {
   "cell_type": "code",
   "execution_count": 82,
   "metadata": {},
   "outputs": [],
   "source": [
    "maboss_FOXA1_model = maboss_wtA_model.copy()\n",
    "\n",
    "maboss_FOXA1_model.mutate(\"FOXA1\", \"OFF\")\n",
    "\n",
    "# MC debug experimenting.\n",
    "maboss_FOXA1_model.network.set_istate(\"EGF\", [0,1])\n",
    "maboss_FOXA1_model.network.set_istate(\"FGF\", [0,1])\n",
    "maboss_FOXA1_model.network.set_istate(\"Nutrients\", [0,1])\n",
    "maboss_FOXA1_model.network.set_istate(\"SPOP\", [0.5,0.5])\n",
    "\n",
    "outputs_network = df_nodes_pathways.loc[df_nodes_pathways[\"pathway\"] == \"Output\"][\"node\"].tolist()\n",
    "maboss_FOXA1_model.network.set_output(outputs_network)"
   ]
  },
  {
   "cell_type": "markdown",
   "metadata": {},
   "source": [
    "The results of this simulation are"
   ]
  },
  {
   "cell_type": "code",
   "execution_count": 83,
   "metadata": {},
   "outputs": [],
   "source": [
    "maboss_FOXA1_result = maboss_FOXA1_model.run()\n",
    "\n",
    "maboss_FOXA1_result.get_nodes_probtraj().plot(\n",
    "    legend=True,\n",
    "    xlabel=\"Time (a.u.)\",\n",
    "    ylabel=\"FOXA1 OFF - Phenotypes\"\n",
    ")\n",
    "plt.savefig(\"6A.pdf\")"
   ]
  },
  {
   "cell_type": "markdown",
   "metadata": {},
   "source": [
    "Another mutation affecting a single node is the inactivation of gene TP53, which affects the inactivation of node \"p53\". Phenotype \"Caspase3\" is added to the outputs of the previous simulation."
   ]
  },
  {
   "cell_type": "code",
   "execution_count": 84,
   "metadata": {},
   "outputs": [],
   "source": [
    "maboss_p53_model = maboss_wtA_model.copy()\n",
    "\n",
    "maboss_p53_model.mutate(\"p53\", \"OFF\")\n",
    "\n",
    "outputs_p53 = outputs_network.copy()\n",
    "outputs_p53.append(\"Caspase3\")\n",
    "maboss_p53_model.network.set_output(outputs_p53)"
   ]
  },
  {
   "cell_type": "markdown",
   "metadata": {},
   "source": [
    "The result of the simulation is"
   ]
  },
  {
   "cell_type": "code",
   "execution_count": 85,
   "metadata": {},
   "outputs": [],
   "source": [
    "maboss_p53_result = maboss_p53_model.run()\n",
    "\n",
    "maboss_p53_result.get_nodes_probtraj().plot(\n",
    "    legend=True,\n",
    "    xlabel=\"Time (a.u.)\",\n",
    "    ylabel=\"TP53 OFF - Phenotypes\"\n",
    ")\n",
    "plt.savefig(\"6B.pdf\")"
   ]
  },
  {
   "cell_type": "markdown",
   "metadata": {},
   "source": [
    "### Multiple mutations\n",
    "During cancer progression multiple mutations accumulate and their effects and interactions can be simulated.\n",
    "\n",
    "An example is the interaction between gene fusion TMPRSS2:ERG and a loss-of-function mutation of gene NKX3_1. The starting model is the wild type model, with active nodes in list `actives_multiple` and random value for node \"SPOP\" as initial conditions. Outputs of the simulation are the output nodes of the network. Then mutations are applied simultaneously."
   ]
  },
  {
   "cell_type": "code",
   "execution_count": 87,
   "metadata": {},
   "outputs": [],
   "source": [
    "maboss_multiple_model = maboss_wtA_model.copy()\n",
    "\n",
    "actives_multiple = [\"EGF\", \"FGF\", \"Nutrients\", \"Carcinogen\"]\n",
    "for node in actives_multiple:\n",
    "    maboss_multiple_model.network.set_istate(node, [0, 1])\n",
    "maboss_multiple_model.network.set_istate(\"SPOP\", [0.5, 0.5])\n",
    "\n",
    "outputs_network.append(\"AR_ERG\")  # MC debug experimenting.\n",
    "maboss_multiple_model.network.set_output(outputs_network)\n",
    "\n",
    "maboss_multiple_model.mutate(\"AR_ERG\", \"ON\")\n",
    "#maboss_multiple_model.network.set_istate(\"AR_ERG\", [0, 1])  # MC debug experimenting.\n",
    "maboss_multiple_model.mutate(\"NKX3_1\", \"OFF\")"
   ]
  },
  {
   "cell_type": "markdown",
   "metadata": {},
   "source": [
    "The result of the simulation is"
   ]
  },
  {
   "cell_type": "code",
   "execution_count": 88,
   "metadata": {
    "scrolled": false
   },
   "outputs": [],
   "source": [
    "maboss_multiple_result = maboss_multiple_model.run()\n",
    "\n",
    "maboss_multiple_result.get_nodes_probtraj().plot(\n",
    "    legend=True,\n",
    "    xlabel=\"Time (a.u.)\",\n",
    "    ylabel=\"AR_ERG ON / NXK3-1 - Phenotypes\"\n",
    ")\n",
    "plt.savefig(\"7.pdf\")"
   ]
  },
  {
   "cell_type": "code",
   "execution_count": 89,
   "metadata": {},
   "outputs": [],
   "source": [
    "# MC debug experimenting.\n",
    "display(df_nodes_interactions.info())\n",
    "display(df_nodes_interactions.loc[\n",
    "    (df_nodes_interactions[\"Target node\"] == \"Metastasis\") |\n",
    "    (df_nodes_interactions[\"Target node\"] == \"Migration\") |\n",
    "    (df_nodes_interactions[\"Target node\"] == \"Invasion\")\n",
    "])"
   ]
  },
  {
   "cell_type": "markdown",
   "metadata": {},
   "source": [
    "# Personalisation of the prostate Boolean model\n",
    "The wild type model can be integrated with data derived from experiments and existing databases, to create personalised models for patient-specific analysis and treatments. Authors follow their PROFILE methodology using bulk omics data.\n",
    "\n",
    "## Phenotype distribution of TCGA patients"
   ]
  }
 ],
 "metadata": {
  "celltoolbar": "Tags",
  "kernelspec": {
   "display_name": "Python 3 (ipykernel)",
   "language": "python",
   "name": "python3"
  },
  "language_info": {
   "codemirror_mode": {
    "name": "ipython",
    "version": 3
   },
   "file_extension": ".py",
   "mimetype": "text/x-python",
   "name": "python",
   "nbconvert_exporter": "python",
   "pygments_lexer": "ipython3",
   "version": "3.9.16"
  }
 },
 "nbformat": 4,
 "nbformat_minor": 2
}
