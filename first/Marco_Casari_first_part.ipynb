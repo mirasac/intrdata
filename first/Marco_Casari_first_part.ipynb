{
 "cells": [
  {
   "cell_type": "markdown",
   "metadata": {},
   "source": [
    "# Introduction to data analysis for natural and social sciences\n",
    "This notebook contitutes the first part of the exam. Here the steps of article \"Patient-specific Boolean models of signalling networks guide personalised treatments\" are retraced and the results reproduced."
   ]
  },
  {
   "cell_type": "markdown",
   "metadata": {},
   "source": [
    "## Imports and global settings"
   ]
  },
  {
   "cell_type": "code",
   "execution_count": 8,
   "metadata": {},
   "outputs": [],
   "source": [
    "import biolqm\n",
    "import ginsim\n",
    "import numpy as np\n",
    "import pandas as pd"
   ]
  },
  {
   "cell_type": "code",
   "execution_count": 9,
   "metadata": {},
   "outputs": [],
   "source": [
    "PATH_FILES = \"report\"\n",
    "\n",
    "EXT_EXCEL = \"xlsx\"\n",
    "EXT_TAB = \"tsv\""
   ]
  },
  {
   "cell_type": "markdown",
   "metadata": {},
   "source": [
    "# Prostate Boolean model construction\n",
    "The Boolean model is constructed starting from information available in literature. Then further pathways are identified by the use of software ROMA and pypath and they are added to the existing network.\n",
    "\n",
    "## Boolean model construction\n",
    "The authors collected all data regarding the network, such as nodes, their role, logical rules, in the two following Excel files:"
   ]
  },
  {
   "cell_type": "code",
   "execution_count": 10,
   "metadata": {},
   "outputs": [],
   "source": [
    "fname_nodes_pathways = \"Montagud2022_nodes in pathways.xlsx\"\n",
    "fname_nodes_network = \"Montagud2022_interactions_sources.xlsx\""
   ]
  },
  {
   "cell_type": "markdown",
   "metadata": {},
   "source": [
    "Data are loaded in Pandas dataframe to ease their manipulation."
   ]
  },
  {
   "cell_type": "code",
   "execution_count": 11,
   "metadata": {},
   "outputs": [],
   "source": [
    "df_nodes_pathways = pd.read_excel(\n",
    "    io=f\"{PATH_FILES}/{fname_nodes_pathways}\",\n",
    "    header=None,\n",
    "    names=[\"node\", \"pathway\"]\n",
    ")\n",
    "sheet_interactions = \"Nodes\"\n",
    "df_nodes_interactions = pd.read_excel(\n",
    "    io=f\"{PATH_FILES}/{fname_nodes_network}\",\n",
    "    sheet_name=sheet_interactions,\n",
    "    header=1,\n",
    "    converters={\"Reference: PMID\": lambda c: np.str_(c).strip()}  # Remove a useless line break in a cell.\n",
    ")\n",
    "sheet_unique=\"Nodes_unique\"\n",
    "df_nodes_unique = pd.read_excel(\n",
    "    io=f\"{PATH_FILES}/{fname_nodes_network}\",\n",
    "    sheet_name=sheet_unique\n",
    ")"
   ]
  },
  {
   "cell_type": "code",
   "execution_count": 12,
   "metadata": {
    "tags": [
     "remove-cell"
    ]
   },
   "outputs": [
    {
     "data": {
      "text/html": [
       "<div>\n",
       "<style scoped>\n",
       "    .dataframe tbody tr th:only-of-type {\n",
       "        vertical-align: middle;\n",
       "    }\n",
       "\n",
       "    .dataframe tbody tr th {\n",
       "        vertical-align: top;\n",
       "    }\n",
       "\n",
       "    .dataframe thead th {\n",
       "        text-align: right;\n",
       "    }\n",
       "</style>\n",
       "<table border=\"1\" class=\"dataframe\">\n",
       "  <thead>\n",
       "    <tr style=\"text-align: right;\">\n",
       "      <th></th>\n",
       "      <th></th>\n",
       "      <th>HUGO names</th>\n",
       "      <th>Interaction type</th>\n",
       "      <th>Source</th>\n",
       "      <th>Description</th>\n",
       "      <th>Reference: PMID</th>\n",
       "    </tr>\n",
       "    <tr>\n",
       "      <th>Target node</th>\n",
       "      <th>Logical rule</th>\n",
       "      <th></th>\n",
       "      <th></th>\n",
       "      <th></th>\n",
       "      <th></th>\n",
       "      <th></th>\n",
       "    </tr>\n",
       "  </thead>\n",
       "  <tbody>\n",
       "    <tr>\n",
       "      <th>AKT</th>\n",
       "      <th>((HSPs | (PDK1 &amp; PIP3) | PIP3 | (SHH &amp; PIP3)) &amp; !PTCH1)</th>\n",
       "      <td>5</td>\n",
       "      <td>5</td>\n",
       "      <td>5</td>\n",
       "      <td>5</td>\n",
       "      <td>5</td>\n",
       "    </tr>\n",
       "    <tr>\n",
       "      <th>AMPK</th>\n",
       "      <th>(ATR | HIF1 | AMP_ATP | ATM) &amp; !FGFR3</th>\n",
       "      <td>6</td>\n",
       "      <td>6</td>\n",
       "      <td>6</td>\n",
       "      <td>6</td>\n",
       "      <td>6</td>\n",
       "    </tr>\n",
       "    <tr>\n",
       "      <th>AMP_ATP</th>\n",
       "      <th>(!Nutrients)</th>\n",
       "      <td>1</td>\n",
       "      <td>1</td>\n",
       "      <td>1</td>\n",
       "      <td>1</td>\n",
       "      <td>1</td>\n",
       "    </tr>\n",
       "    <tr>\n",
       "      <th>APAF1</th>\n",
       "      <th>((Caspase8 | BAX | p53 | Bak | HSPs) &amp; !Bcl_XL &amp; !BCL2 &amp; !AKT)</th>\n",
       "      <td>8</td>\n",
       "      <td>8</td>\n",
       "      <td>8</td>\n",
       "      <td>8</td>\n",
       "      <td>8</td>\n",
       "    </tr>\n",
       "    <tr>\n",
       "      <th>AR</th>\n",
       "      <th>((GLI | EP300 | HSPs | NKX3_1 | EZH2 | NCOA3 | PKC | SMAD | Androgen) &amp; !PTEN &amp; !NCOR1 &amp; !NCOR2 &amp; !MDM2)</th>\n",
       "      <td>13</td>\n",
       "      <td>13</td>\n",
       "      <td>13</td>\n",
       "      <td>13</td>\n",
       "      <td>13</td>\n",
       "    </tr>\n",
       "    <tr>\n",
       "      <th>...</th>\n",
       "      <th>...</th>\n",
       "      <td>...</td>\n",
       "      <td>...</td>\n",
       "      <td>...</td>\n",
       "      <td>...</td>\n",
       "      <td>...</td>\n",
       "    </tr>\n",
       "    <tr>\n",
       "      <th>p21</th>\n",
       "      <th>((p53 | SMAD | HIF1 | ZBTB17) &amp; !TERT &amp; !MYC_MAX &amp; !MDM2 &amp; !AKT &amp; !ERK)</th>\n",
       "      <td>9</td>\n",
       "      <td>9</td>\n",
       "      <td>9</td>\n",
       "      <td>9</td>\n",
       "      <td>9</td>\n",
       "    </tr>\n",
       "    <tr>\n",
       "      <th>p38</th>\n",
       "      <th>(MAP3K1_3 &amp; !ERK &amp; !GADD45)</th>\n",
       "      <td>3</td>\n",
       "      <td>3</td>\n",
       "      <td>3</td>\n",
       "      <td>3</td>\n",
       "      <td>3</td>\n",
       "    </tr>\n",
       "    <tr>\n",
       "      <th>p53</th>\n",
       "      <th>((Acidosis | CHK1_2 | p38 | HIF1) &amp; !BCL2 &amp; !MDM2 &amp; !HSPs &amp; !Snail)</th>\n",
       "      <td>9</td>\n",
       "      <td>9</td>\n",
       "      <td>9</td>\n",
       "      <td>9</td>\n",
       "      <td>9</td>\n",
       "    </tr>\n",
       "    <tr>\n",
       "      <th>p70S6kab</th>\n",
       "      <th>(mTORC2 | PDK1)</th>\n",
       "      <td>2</td>\n",
       "      <td>2</td>\n",
       "      <td>2</td>\n",
       "      <td>2</td>\n",
       "      <td>2</td>\n",
       "    </tr>\n",
       "    <tr>\n",
       "      <th>p90RSK</th>\n",
       "      <th>(PDK1 | ERK)</th>\n",
       "      <td>2</td>\n",
       "      <td>2</td>\n",
       "      <td>2</td>\n",
       "      <td>2</td>\n",
       "      <td>2</td>\n",
       "    </tr>\n",
       "  </tbody>\n",
       "</table>\n",
       "<p>133 rows × 5 columns</p>\n",
       "</div>"
      ],
      "text/plain": [
       "                                                                HUGO names  \\\n",
       "Target node Logical rule                                                     \n",
       "AKT         ((HSPs | (PDK1 & PIP3) | PIP3 | (SHH & PIP3)) &...           5   \n",
       "AMPK        (ATR | HIF1 | AMP_ATP | ATM) & !FGFR3                        6   \n",
       "AMP_ATP     (!Nutrients)                                                 1   \n",
       "APAF1       ((Caspase8 | BAX | p53 | Bak | HSPs) & !Bcl_XL ...           8   \n",
       "AR          ((GLI | EP300 | HSPs | NKX3_1 | EZH2 | NCOA3 | ...          13   \n",
       "...                                                                    ...   \n",
       "p21         ((p53 | SMAD | HIF1 | ZBTB17) & !TERT & !MYC_MA...           9   \n",
       "p38         (MAP3K1_3 & !ERK & !GADD45)                                  3   \n",
       "p53         ((Acidosis | CHK1_2 | p38 | HIF1) & !BCL2 & !MD...           9   \n",
       "p70S6kab    (mTORC2 | PDK1)                                              2   \n",
       "p90RSK      (PDK1 | ERK)                                                 2   \n",
       "\n",
       "                                                                Interaction type  \\\n",
       "Target node Logical rule                                                           \n",
       "AKT         ((HSPs | (PDK1 & PIP3) | PIP3 | (SHH & PIP3)) &...                 5   \n",
       "AMPK        (ATR | HIF1 | AMP_ATP | ATM) & !FGFR3                              6   \n",
       "AMP_ATP     (!Nutrients)                                                       1   \n",
       "APAF1       ((Caspase8 | BAX | p53 | Bak | HSPs) & !Bcl_XL ...                 8   \n",
       "AR          ((GLI | EP300 | HSPs | NKX3_1 | EZH2 | NCOA3 | ...                13   \n",
       "...                                                                          ...   \n",
       "p21         ((p53 | SMAD | HIF1 | ZBTB17) & !TERT & !MYC_MA...                 9   \n",
       "p38         (MAP3K1_3 & !ERK & !GADD45)                                        3   \n",
       "p53         ((Acidosis | CHK1_2 | p38 | HIF1) & !BCL2 & !MD...                 9   \n",
       "p70S6kab    (mTORC2 | PDK1)                                                    2   \n",
       "p90RSK      (PDK1 | ERK)                                                       2   \n",
       "\n",
       "                                                                Source  \\\n",
       "Target node Logical rule                                                 \n",
       "AKT         ((HSPs | (PDK1 & PIP3) | PIP3 | (SHH & PIP3)) &...       5   \n",
       "AMPK        (ATR | HIF1 | AMP_ATP | ATM) & !FGFR3                    6   \n",
       "AMP_ATP     (!Nutrients)                                             1   \n",
       "APAF1       ((Caspase8 | BAX | p53 | Bak | HSPs) & !Bcl_XL ...       8   \n",
       "AR          ((GLI | EP300 | HSPs | NKX3_1 | EZH2 | NCOA3 | ...      13   \n",
       "...                                                                ...   \n",
       "p21         ((p53 | SMAD | HIF1 | ZBTB17) & !TERT & !MYC_MA...       9   \n",
       "p38         (MAP3K1_3 & !ERK & !GADD45)                              3   \n",
       "p53         ((Acidosis | CHK1_2 | p38 | HIF1) & !BCL2 & !MD...       9   \n",
       "p70S6kab    (mTORC2 | PDK1)                                          2   \n",
       "p90RSK      (PDK1 | ERK)                                             2   \n",
       "\n",
       "                                                                Description  \\\n",
       "Target node Logical rule                                                      \n",
       "AKT         ((HSPs | (PDK1 & PIP3) | PIP3 | (SHH & PIP3)) &...            5   \n",
       "AMPK        (ATR | HIF1 | AMP_ATP | ATM) & !FGFR3                         6   \n",
       "AMP_ATP     (!Nutrients)                                                  1   \n",
       "APAF1       ((Caspase8 | BAX | p53 | Bak | HSPs) & !Bcl_XL ...            8   \n",
       "AR          ((GLI | EP300 | HSPs | NKX3_1 | EZH2 | NCOA3 | ...           13   \n",
       "...                                                                     ...   \n",
       "p21         ((p53 | SMAD | HIF1 | ZBTB17) & !TERT & !MYC_MA...            9   \n",
       "p38         (MAP3K1_3 & !ERK & !GADD45)                                   3   \n",
       "p53         ((Acidosis | CHK1_2 | p38 | HIF1) & !BCL2 & !MD...            9   \n",
       "p70S6kab    (mTORC2 | PDK1)                                               2   \n",
       "p90RSK      (PDK1 | ERK)                                                  2   \n",
       "\n",
       "                                                                Reference: PMID  \n",
       "Target node Logical rule                                                         \n",
       "AKT         ((HSPs | (PDK1 & PIP3) | PIP3 | (SHH & PIP3)) &...                5  \n",
       "AMPK        (ATR | HIF1 | AMP_ATP | ATM) & !FGFR3                             6  \n",
       "AMP_ATP     (!Nutrients)                                                      1  \n",
       "APAF1       ((Caspase8 | BAX | p53 | Bak | HSPs) & !Bcl_XL ...                8  \n",
       "AR          ((GLI | EP300 | HSPs | NKX3_1 | EZH2 | NCOA3 | ...               13  \n",
       "...                                                                         ...  \n",
       "p21         ((p53 | SMAD | HIF1 | ZBTB17) & !TERT & !MYC_MA...                9  \n",
       "p38         (MAP3K1_3 & !ERK & !GADD45)                                       3  \n",
       "p53         ((Acidosis | CHK1_2 | p38 | HIF1) & !BCL2 & !MD...                9  \n",
       "p70S6kab    (mTORC2 | PDK1)                                                   2  \n",
       "p90RSK      (PDK1 | ERK)                                                      2  \n",
       "\n",
       "[133 rows x 5 columns]"
      ]
     },
     "metadata": {},
     "output_type": "display_data"
    }
   ],
   "source": [
    "# One single logical rule is associated to each node, indeed the result of grouping by node and rule is a list of exactly 133 rows.\n",
    "df_count = df_nodes_interactions.groupby([\"Target node\", \"Logical rule\"]).count()\n",
    "display(df_count)\n",
    "del df_count"
   ]
  },
  {
   "cell_type": "code",
   "execution_count": 13,
   "metadata": {
    "tags": [
     "remove-cell"
    ]
   },
   "outputs": [
    {
     "data": {
      "text/html": [
       "<div>\n",
       "<style scoped>\n",
       "    .dataframe tbody tr th:only-of-type {\n",
       "        vertical-align: middle;\n",
       "    }\n",
       "\n",
       "    .dataframe tbody tr th {\n",
       "        vertical-align: top;\n",
       "    }\n",
       "\n",
       "    .dataframe thead th {\n",
       "        text-align: right;\n",
       "    }\n",
       "</style>\n",
       "<table border=\"1\" class=\"dataframe\">\n",
       "  <thead>\n",
       "    <tr style=\"text-align: right;\">\n",
       "      <th></th>\n",
       "      <th>pathway</th>\n",
       "    </tr>\n",
       "    <tr>\n",
       "      <th>node</th>\n",
       "      <th></th>\n",
       "    </tr>\n",
       "  </thead>\n",
       "  <tbody>\n",
       "    <tr>\n",
       "      <th>Acidosis</th>\n",
       "      <td>Input</td>\n",
       "    </tr>\n",
       "    <tr>\n",
       "      <th>Androgen</th>\n",
       "      <td>Input</td>\n",
       "    </tr>\n",
       "    <tr>\n",
       "      <th>Carcinogen</th>\n",
       "      <td>Input</td>\n",
       "    </tr>\n",
       "    <tr>\n",
       "      <th>EGF</th>\n",
       "      <td>Input</td>\n",
       "    </tr>\n",
       "    <tr>\n",
       "      <th>FGF</th>\n",
       "      <td>Input</td>\n",
       "    </tr>\n",
       "    <tr>\n",
       "      <th>fused_event</th>\n",
       "      <td>Input</td>\n",
       "    </tr>\n",
       "    <tr>\n",
       "      <th>Hypoxia</th>\n",
       "      <td>Input</td>\n",
       "    </tr>\n",
       "    <tr>\n",
       "      <th>Nutrients</th>\n",
       "      <td>Input</td>\n",
       "    </tr>\n",
       "    <tr>\n",
       "      <th>SPOP</th>\n",
       "      <td>Input</td>\n",
       "    </tr>\n",
       "    <tr>\n",
       "      <th>TGFb</th>\n",
       "      <td>Input</td>\n",
       "    </tr>\n",
       "    <tr>\n",
       "      <th>TNFalpha</th>\n",
       "      <td>Input</td>\n",
       "    </tr>\n",
       "  </tbody>\n",
       "</table>\n",
       "</div>"
      ],
      "text/plain": [
       "            pathway\n",
       "node               \n",
       "Acidosis      Input\n",
       "Androgen      Input\n",
       "Carcinogen    Input\n",
       "EGF           Input\n",
       "FGF           Input\n",
       "fused_event   Input\n",
       "Hypoxia       Input\n",
       "Nutrients     Input\n",
       "SPOP          Input\n",
       "TGFb          Input\n",
       "TNFalpha      Input"
      ]
     },
     "metadata": {},
     "output_type": "display_data"
    },
    {
     "data": {
      "text/html": [
       "<div>\n",
       "<style scoped>\n",
       "    .dataframe tbody tr th:only-of-type {\n",
       "        vertical-align: middle;\n",
       "    }\n",
       "\n",
       "    .dataframe tbody tr th {\n",
       "        vertical-align: top;\n",
       "    }\n",
       "\n",
       "    .dataframe thead th {\n",
       "        text-align: right;\n",
       "    }\n",
       "</style>\n",
       "<table border=\"1\" class=\"dataframe\">\n",
       "  <thead>\n",
       "    <tr style=\"text-align: right;\">\n",
       "      <th></th>\n",
       "      <th>pathway</th>\n",
       "    </tr>\n",
       "    <tr>\n",
       "      <th>node</th>\n",
       "      <th></th>\n",
       "    </tr>\n",
       "  </thead>\n",
       "  <tbody>\n",
       "    <tr>\n",
       "      <th>Acidosis</th>\n",
       "      <td>Input</td>\n",
       "    </tr>\n",
       "    <tr>\n",
       "      <th>Androgen</th>\n",
       "      <td>Input</td>\n",
       "    </tr>\n",
       "    <tr>\n",
       "      <th>Apoptosis</th>\n",
       "      <td>Output</td>\n",
       "    </tr>\n",
       "    <tr>\n",
       "      <th>Carcinogen</th>\n",
       "      <td>Input</td>\n",
       "    </tr>\n",
       "    <tr>\n",
       "      <th>DNA_Damage</th>\n",
       "      <td>DNA repair pathw</td>\n",
       "    </tr>\n",
       "    <tr>\n",
       "      <th>DNA_Repair</th>\n",
       "      <td>Output</td>\n",
       "    </tr>\n",
       "    <tr>\n",
       "      <th>EMT</th>\n",
       "      <td>Invasion pathw</td>\n",
       "    </tr>\n",
       "    <tr>\n",
       "      <th>Hypoxia</th>\n",
       "      <td>Input</td>\n",
       "    </tr>\n",
       "    <tr>\n",
       "      <th>Invasion</th>\n",
       "      <td>Output</td>\n",
       "    </tr>\n",
       "    <tr>\n",
       "      <th>Metastasis</th>\n",
       "      <td>Output</td>\n",
       "    </tr>\n",
       "    <tr>\n",
       "      <th>Migration</th>\n",
       "      <td>Output</td>\n",
       "    </tr>\n",
       "    <tr>\n",
       "      <th>Nutrients</th>\n",
       "      <td>Input</td>\n",
       "    </tr>\n",
       "    <tr>\n",
       "      <th>Proliferation</th>\n",
       "      <td>Output</td>\n",
       "    </tr>\n",
       "  </tbody>\n",
       "</table>\n",
       "</div>"
      ],
      "text/plain": [
       "                        pathway\n",
       "node                           \n",
       "Acidosis                  Input\n",
       "Androgen                  Input\n",
       "Apoptosis                Output\n",
       "Carcinogen                Input\n",
       "DNA_Damage     DNA repair pathw\n",
       "DNA_Repair               Output\n",
       "EMT              Invasion pathw\n",
       "Hypoxia                   Input\n",
       "Invasion                 Output\n",
       "Metastasis               Output\n",
       "Migration                Output\n",
       "Nutrients                 Input\n",
       "Proliferation            Output"
      ]
     },
     "metadata": {},
     "output_type": "display_data"
    },
    {
     "name": "stdout",
     "output_type": "stream",
     "text": [
      "\"['MAX'] not found in axis\"\n"
     ]
    }
   ],
   "source": [
    "# df_nodes_unique contains only 121 nodes and not 133 as df_nodes_pathways.\n",
    "# In other words, df_nodes_unique[\"Node\"] should be a subset of df_nodes_pathways[\"node\"]. Why?\n",
    "df = df_nodes_pathways.set_index(\"node\")\n",
    "df_subset = df_nodes_unique.set_index(\"Node\")\n",
    "\n",
    "# The input nodes should be all removed, since they are not regulated by authors' choice,\n",
    "# hence they are not part of any pathway. But this is not what happens.\n",
    "display(df.loc[df[\"pathway\"] == \"Input\"])\n",
    "display(df.drop(labels=df_subset.index, errors=\"ignore\"))\n",
    "\n",
    "# Moreover, in df_nodes_unique there is a node called MAX which is not part of the nodes considered for the final network.\n",
    "# Surprisingly, it is not present among the nodes in df_nodes_interactions.\n",
    "try:\n",
    "    df.drop(labels=df_subset.index)\n",
    "except Exception as e:\n",
    "    print(e)\n",
    "finally:\n",
    "    del df\n",
    "    del df_subset\n",
    "\n",
    "# In conclusion, it seems that the choice of nodes from the Excel files can not be deduced directly\n",
    "# just from the observation of the content of the files.\n",
    "# In particular, I should use data in df_nodes_unique with caution,\n",
    "# since their relation with the other data is not straightforward."
   ]
  },
  {
   "cell_type": "markdown",
   "metadata": {},
   "source": [
    "Data about nodes are then exported in files with tab-separated values (TSV) format, to import them in Cytoscape in a later time."
   ]
  },
  {
   "cell_type": "code",
   "execution_count": 14,
   "metadata": {},
   "outputs": [],
   "source": [
    "name_nodes_pathways = fname_nodes_pathways.removesuffix(f\".{EXT_EXCEL}\")\n",
    "name_nodes_network = fname_nodes_network.removesuffix(f\".{EXT_EXCEL}\")\n",
    "\n",
    "df_nodes_pathways.to_csv(\n",
    "    path_or_buf=f\"{name_nodes_pathways}.{EXT_TAB}\",\n",
    "    sep='\\t',\n",
    "    index=False\n",
    ")\n",
    "df_nodes_interactions.to_csv(\n",
    "    path_or_buf=f\"{name_nodes_network}_{sheet_interactions}.{EXT_TAB}\",\n",
    "    sep='\\t',\n",
    "    index=False\n",
    ")\n",
    "df_nodes_unique.to_csv(\n",
    "    path_or_buf=f\"{name_nodes_network}_{sheet_unique}.{EXT_TAB}\",\n",
    "    sep='\\t',\n",
    "    index=False\n",
    ")"
   ]
  },
  {
   "cell_type": "markdown",
   "metadata": {},
   "source": [
    "To create the network, one single data file can be used, which contains data about interactions and pathways."
   ]
  },
  {
   "cell_type": "code",
   "execution_count": 15,
   "metadata": {},
   "outputs": [],
   "source": [
    "df_cytoscape = df_nodes_interactions.join(\n",
    "    other=df_nodes_pathways.set_index(\"node\"),\n",
    "    on=\"Target node\"\n",
    ")\n",
    "df_cytoscape.to_csv(\n",
    "    path_or_buf=f\"cytoscape_data.{EXT_TAB}\",\n",
    "    sep='\\t',\n",
    "    index=False\n",
    ")"
   ]
  },
  {
   "cell_type": "markdown",
   "metadata": {},
   "source": [
    "After having imported the file in Cytoscape, node \"0/1\" is hidden because it is generated by the software as source node for input nodes."
   ]
  },
  {
   "cell_type": "markdown",
   "metadata": {},
   "source": [
    "To build the regulatory network, GINsim is used by the authors. The resulting network is exported as ZGINML file, available in the Supplementary file 1, named"
   ]
  },
  {
   "cell_type": "code",
   "execution_count": 16,
   "metadata": {},
   "outputs": [],
   "source": [
    "fname_model = \"Montagud2022_Prostate_Cancer.zginml\""
   ]
  },
  {
   "cell_type": "markdown",
   "metadata": {},
   "source": [
    "The file is then imported in Cytoscape for visual improvement."
   ]
  },
  {
   "cell_type": "code",
   "execution_count": 17,
   "metadata": {
    "scrolled": true,
    "tags": [
     "remove-cell"
    ]
   },
   "outputs": [
    {
     "data": {
      "text/html": [
       "<div>\n",
       "<style scoped>\n",
       "    .dataframe tbody tr th:only-of-type {\n",
       "        vertical-align: middle;\n",
       "    }\n",
       "\n",
       "    .dataframe tbody tr th {\n",
       "        vertical-align: top;\n",
       "    }\n",
       "\n",
       "    .dataframe thead th {\n",
       "        text-align: right;\n",
       "    }\n",
       "</style>\n",
       "<table border=\"1\" class=\"dataframe\">\n",
       "  <thead>\n",
       "    <tr style=\"text-align: right;\">\n",
       "      <th></th>\n",
       "      <th>Target node</th>\n",
       "      <th>HUGO names</th>\n",
       "      <th>Interaction type</th>\n",
       "      <th>Source</th>\n",
       "      <th>Description</th>\n",
       "      <th>Reference: PMID</th>\n",
       "      <th>Logical rule</th>\n",
       "    </tr>\n",
       "  </thead>\n",
       "  <tbody>\n",
       "    <tr>\n",
       "      <th>197</th>\n",
       "      <td>fused_event</td>\n",
       "      <td>TMPRSS2</td>\n",
       "      <td>input</td>\n",
       "      <td>0/1</td>\n",
       "      <td>TMPRSS2-Ets gene fusions were identified in pr...</td>\n",
       "      <td>23264855, 20118910</td>\n",
       "      <td>(fused_event)</td>\n",
       "    </tr>\n",
       "    <tr>\n",
       "      <th>198</th>\n",
       "      <td>fused_event</td>\n",
       "      <td>SLC45A3</td>\n",
       "      <td>input</td>\n",
       "      <td>0/1</td>\n",
       "      <td>TMPRSS2 and SLC45A3 were the only 5' partner i...</td>\n",
       "      <td>20118910</td>\n",
       "      <td>(fused_event)</td>\n",
       "    </tr>\n",
       "    <tr>\n",
       "      <th>199</th>\n",
       "      <td>fused_event</td>\n",
       "      <td>NDRG1</td>\n",
       "      <td>input</td>\n",
       "      <td>0/1</td>\n",
       "      <td>ERG gene rearrangements and mechanism of rearr...</td>\n",
       "      <td>20118910</td>\n",
       "      <td>(fused_event)</td>\n",
       "    </tr>\n",
       "  </tbody>\n",
       "</table>\n",
       "</div>"
      ],
      "text/plain": [
       "     Target node HUGO names Interaction type Source  \\\n",
       "197  fused_event    TMPRSS2            input    0/1   \n",
       "198  fused_event    SLC45A3            input    0/1   \n",
       "199  fused_event      NDRG1            input    0/1   \n",
       "\n",
       "                                           Description     Reference: PMID  \\\n",
       "197  TMPRSS2-Ets gene fusions were identified in pr...  23264855, 20118910   \n",
       "198  TMPRSS2 and SLC45A3 were the only 5' partner i...            20118910   \n",
       "199  ERG gene rearrangements and mechanism of rearr...            20118910   \n",
       "\n",
       "      Logical rule  \n",
       "197  (fused_event)  \n",
       "198  (fused_event)  \n",
       "199  (fused_event)  "
      ]
     },
     "metadata": {},
     "output_type": "display_data"
    },
    {
     "data": {
      "text/html": [
       "<div>\n",
       "<style scoped>\n",
       "    .dataframe tbody tr th:only-of-type {\n",
       "        vertical-align: middle;\n",
       "    }\n",
       "\n",
       "    .dataframe tbody tr th {\n",
       "        vertical-align: top;\n",
       "    }\n",
       "\n",
       "    .dataframe thead th {\n",
       "        text-align: right;\n",
       "    }\n",
       "</style>\n",
       "<table border=\"1\" class=\"dataframe\">\n",
       "  <thead>\n",
       "    <tr style=\"text-align: right;\">\n",
       "      <th></th>\n",
       "      <th>Target node</th>\n",
       "      <th>HUGO names</th>\n",
       "      <th>Interaction type</th>\n",
       "      <th>Source</th>\n",
       "      <th>Description</th>\n",
       "      <th>Reference: PMID</th>\n",
       "      <th>Logical rule</th>\n",
       "    </tr>\n",
       "  </thead>\n",
       "  <tbody>\n",
       "    <tr>\n",
       "      <th>39</th>\n",
       "      <td>AR_ERG</td>\n",
       "      <td>ERG fused</td>\n",
       "      <td>+</td>\n",
       "      <td>fused_event</td>\n",
       "      <td>ERG can fuse with TMPRSS2 protein to form an o...</td>\n",
       "      <td>23264855</td>\n",
       "      <td>((AR &amp; fused_event) | (AR &amp; fused_event &amp; !NKX...</td>\n",
       "    </tr>\n",
       "  </tbody>\n",
       "</table>\n",
       "</div>"
      ],
      "text/plain": [
       "   Target node HUGO names Interaction type       Source  \\\n",
       "39      AR_ERG  ERG fused                +  fused_event   \n",
       "\n",
       "                                          Description Reference: PMID  \\\n",
       "39  ERG can fuse with TMPRSS2 protein to form an o...        23264855   \n",
       "\n",
       "                                         Logical rule  \n",
       "39  ((AR & fused_event) | (AR & fused_event & !NKX...  "
      ]
     },
     "metadata": {},
     "output_type": "display_data"
    },
    {
     "data": {
      "text/html": [
       "<div>\n",
       "<style scoped>\n",
       "    .dataframe tbody tr th:only-of-type {\n",
       "        vertical-align: middle;\n",
       "    }\n",
       "\n",
       "    .dataframe tbody tr th {\n",
       "        vertical-align: top;\n",
       "    }\n",
       "\n",
       "    .dataframe thead th {\n",
       "        text-align: right;\n",
       "    }\n",
       "</style>\n",
       "<table border=\"1\" class=\"dataframe\">\n",
       "  <thead>\n",
       "    <tr style=\"text-align: right;\">\n",
       "      <th></th>\n",
       "      <th>Target node</th>\n",
       "      <th>HUGO names</th>\n",
       "      <th>Interaction type</th>\n",
       "      <th>Source</th>\n",
       "      <th>Description</th>\n",
       "      <th>Reference: PMID</th>\n",
       "      <th>Logical rule</th>\n",
       "    </tr>\n",
       "  </thead>\n",
       "  <tbody>\n",
       "    <tr>\n",
       "      <th>420</th>\n",
       "      <td>SPOP</td>\n",
       "      <td>SPOP</td>\n",
       "      <td>input</td>\n",
       "      <td>0/1</td>\n",
       "      <td>Input of the model</td>\n",
       "      <td>NaN</td>\n",
       "      <td>(SPOP)</td>\n",
       "    </tr>\n",
       "  </tbody>\n",
       "</table>\n",
       "</div>"
      ],
      "text/plain": [
       "    Target node HUGO names Interaction type Source         Description  \\\n",
       "420        SPOP       SPOP            input    0/1  Input of the model   \n",
       "\n",
       "    Reference: PMID Logical rule  \n",
       "420             NaN       (SPOP)  "
      ]
     },
     "metadata": {},
     "output_type": "display_data"
    },
    {
     "data": {
      "text/html": [
       "<div>\n",
       "<style scoped>\n",
       "    .dataframe tbody tr th:only-of-type {\n",
       "        vertical-align: middle;\n",
       "    }\n",
       "\n",
       "    .dataframe tbody tr th {\n",
       "        vertical-align: top;\n",
       "    }\n",
       "\n",
       "    .dataframe thead th {\n",
       "        text-align: right;\n",
       "    }\n",
       "</style>\n",
       "<table border=\"1\" class=\"dataframe\">\n",
       "  <thead>\n",
       "    <tr style=\"text-align: right;\">\n",
       "      <th></th>\n",
       "      <th>Target node</th>\n",
       "      <th>HUGO names</th>\n",
       "      <th>Interaction type</th>\n",
       "      <th>Source</th>\n",
       "      <th>Description</th>\n",
       "      <th>Reference: PMID</th>\n",
       "      <th>Logical rule</th>\n",
       "    </tr>\n",
       "  </thead>\n",
       "  <tbody>\n",
       "    <tr>\n",
       "      <th>125</th>\n",
       "      <td>DAXX</td>\n",
       "      <td>DAXX</td>\n",
       "      <td>-</td>\n",
       "      <td>SPOP</td>\n",
       "      <td>Phosphorylation of Daxx by ATM upon DNA damage...</td>\n",
       "      <td>23405218</td>\n",
       "      <td>(!ATM &amp; !ATR &amp; !SPOP)</td>\n",
       "    </tr>\n",
       "    <tr>\n",
       "      <th>128</th>\n",
       "      <td>DNA_Damage</td>\n",
       "      <td>NaN</td>\n",
       "      <td>+</td>\n",
       "      <td>SPOP</td>\n",
       "      <td>From Fumia et al, 2013</td>\n",
       "      <td>23922675</td>\n",
       "      <td>((Carcinogen | (Carcinogen &amp; ROS)) &amp; !SPOP)</td>\n",
       "    </tr>\n",
       "    <tr>\n",
       "      <th>203</th>\n",
       "      <td>GLI</td>\n",
       "      <td>GLI1, GLI2</td>\n",
       "      <td>-</td>\n",
       "      <td>SPOP</td>\n",
       "      <td>Stabilization of speckle-type POZ protein (Spo...</td>\n",
       "      <td>24072710</td>\n",
       "      <td>((WNT | SMO) &amp; !SPOP)</td>\n",
       "    </tr>\n",
       "    <tr>\n",
       "      <th>312</th>\n",
       "      <td>NCOA3</td>\n",
       "      <td>NCOA3</td>\n",
       "      <td>-</td>\n",
       "      <td>SPOP</td>\n",
       "      <td>Mutations in SPOP represent the most common po...</td>\n",
       "      <td>24239470</td>\n",
       "      <td>(!SPOP &amp; p38)</td>\n",
       "    </tr>\n",
       "  </tbody>\n",
       "</table>\n",
       "</div>"
      ],
      "text/plain": [
       "    Target node  HUGO names Interaction type Source  \\\n",
       "125        DAXX        DAXX                -   SPOP   \n",
       "128  DNA_Damage         NaN                +   SPOP   \n",
       "203         GLI  GLI1, GLI2                -   SPOP   \n",
       "312       NCOA3       NCOA3                -   SPOP   \n",
       "\n",
       "                                           Description Reference: PMID  \\\n",
       "125  Phosphorylation of Daxx by ATM upon DNA damage...        23405218   \n",
       "128                             From Fumia et al, 2013        23922675   \n",
       "203  Stabilization of speckle-type POZ protein (Spo...        24072710   \n",
       "312  Mutations in SPOP represent the most common po...        24239470   \n",
       "\n",
       "                                    Logical rule  \n",
       "125                        (!ATM & !ATR & !SPOP)  \n",
       "128  ((Carcinogen | (Carcinogen & ROS)) & !SPOP)  \n",
       "203                        ((WNT | SMO) & !SPOP)  \n",
       "312                                (!SPOP & p38)  "
      ]
     },
     "metadata": {},
     "output_type": "display_data"
    }
   ],
   "source": [
    "# Only nine nodes are referred as proper inputs in the article (cfr. appendix 1.2.3). The remaining two are \"fused_event\" and \"SPOP\".\n",
    "\n",
    "# Node \"fused_event\" is present to consider the condition of fusion with gene ERG\n",
    "# and is added manually based on existing literature (cfr. appendix 1.1.5).\n",
    "display(df_nodes_interactions.loc[df_nodes_interactions[\"Target node\"] == \"fused_event\"])\n",
    "display(df_nodes_interactions.loc[df_nodes_interactions[\"Source\"] == \"fused_event\"])\n",
    "\n",
    "# Node \"SPOP\" is present to consider mutations of gene SPOP which are frequent in prostate cancer.\n",
    "display(df_nodes_interactions.loc[df_nodes_interactions[\"Target node\"] == \"SPOP\"])\n",
    "display(df_nodes_interactions.loc[df_nodes_interactions[\"Source\"] == \"SPOP\"])"
   ]
  },
  {
   "cell_type": "markdown",
   "metadata": {
    "tags": [
     "remove-cell"
    ]
   },
   "source": [
    "### Use cases for the GINsim model\n",
    "The GINsim model can be used directly for some tasks and all the information are contained in the ZGINML file."
   ]
  },
  {
   "cell_type": "code",
   "execution_count": 18,
   "metadata": {
    "tags": [
     "remove-cell"
    ]
   },
   "outputs": [],
   "source": [
    "ginsim_model = ginsim.load(f\"{PATH_FILES}/{fname_model}\")"
   ]
  },
  {
   "cell_type": "markdown",
   "metadata": {
    "tags": [
     "remove-cell"
    ]
   },
   "source": [
    "The network can be diplayed with"
   ]
  },
  {
   "cell_type": "code",
   "execution_count": 19,
   "metadata": {
    "scrolled": true,
    "tags": [
     "remove-cell"
    ]
   },
   "outputs": [
    {
     "data": {
      "text/html": [
       "<img class=\"unconfined\" width=\"100%\" src=\"data:image/svg+xml;base64,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\">"
      ],
      "text/plain": [
       "<IPython.core.display.HTML object>"
      ]
     },
     "execution_count": 19,
     "metadata": {},
     "output_type": "execute_result"
    }
   ],
   "source": [
    "ginsim.show(ginsim_model)"
   ]
  },
  {
   "cell_type": "markdown",
   "metadata": {
    "tags": [
     "remove-cell"
    ]
   },
   "source": [
    "and the stable states of the model can be evaluated. This task is performed by bioLQM:"
   ]
  },
  {
   "cell_type": "markdown",
   "metadata": {
    "tags": [
     "remove-cell"
    ]
   },
   "source": [
    "biolqm_model = ginsim.to_biolqm(ginsim_model)\n",
    "biolqm_fixpoints = biolqm.fixpoints(biolqm_model)"
   ]
  },
  {
   "cell_type": "markdown",
   "metadata": {},
   "source": [
    "# Prostate Boolean model simulation\n",
    "To perform simulations using the Boolean model, MaBoSS is used. First, configurations and information about the model are extracted from the GINsim model:"
   ]
  },
  {
   "cell_type": "code",
   "execution_count": 20,
   "metadata": {},
   "outputs": [],
   "source": [
    "maboss_model = ginsim.to_maboss(ginsim_model)"
   ]
  },
  {
   "cell_type": "markdown",
   "metadata": {},
   "source": [
    "Then the number of trajectories and other configurations are set:"
   ]
  },
  {
   "cell_type": "code",
   "execution_count": 21,
   "metadata": {},
   "outputs": [
    {
     "name": "stdout",
     "output_type": "stream",
     "text": [
      "OrderedDict([('time_tick', 0.1), ('max_time', 30), ('sample_count', 5000), ('discrete_time', False), ('use_physrandgen', False), ('seed_pseudorandom', 100), ('display_traj', 0.0), ('statdist_traj_count', 0.0), ('statdist_cluster_threshold', 1.0), ('thread_count', 1.0), ('statdist_similarity_cache_max_size', 20000.0), ('$u_Acidosis', '1'), ('$d_Acidosis', '1'), ('$u_AKT', '1'), ('$d_AKT', '1'), ('$u_AMP_ATP', '1'), ('$d_AMP_ATP', '1'), ('$u_AMPK', '1'), ('$d_AMPK', '1'), ('$u_Androgen', '1'), ('$d_Androgen', '1'), ('$u_Apoptosis', '1'), ('$d_Apoptosis', '1'), ('$u_AR', '1'), ('$d_AR', '1'), ('$u_ATM', '1'), ('$d_ATM', '1'), ('$u_ATR', '1'), ('$d_ATR', '1'), ('$u_AXIN1', '1'), ('$d_AXIN1', '1'), ('$u_BAD', '1'), ('$d_BAD', '1'), ('$u_Bak', '1'), ('$d_Bak', '1'), ('$u_BAX', '1'), ('$d_BAX', '1'), ('$u_BCL2', '1'), ('$d_BCL2', '1'), ('$u_Bcl_XL', '1'), ('$d_Bcl_XL', '1'), ('$u_beta_catenin', '1'), ('$d_beta_catenin', '1'), ('$u_BIRC5', '1'), ('$d_BIRC5', '1'), ('$u_BRCA1', '1'), ('$d_BRCA1', '1'), ('$u_BRCA2', '1'), ('$d_BRCA2', '1'), ('$u_Carcinogen', '1'), ('$d_Carcinogen', '1'), ('$u_Caspase8', '1'), ('$d_Caspase8', '1'), ('$u_Caspase9', '1'), ('$d_Caspase9', '1'), ('$u_CDH2', '1'), ('$d_CDH2', '1'), ('$u_cFLAR', '1'), ('$d_cFLAR', '1'), ('$u_CHK1_2', '1'), ('$d_CHK1_2', '1'), ('$u_COX4I2', '1'), ('$d_COX4I2', '1'), ('$u_CyclinB', '1'), ('$d_CyclinB', '1'), ('$u_CyclinD', '1'), ('$d_CyclinD', '1'), ('$u_CytoC', '1'), ('$d_CytoC', '1'), ('$u_APAF1', '1'), ('$d_APAF1', '1'), ('$u_DAXX', '1'), ('$d_DAXX', '1'), ('$u_DNA_Damage', '1'), ('$d_DNA_Damage', '1'), ('$u_DNA_Repair', '1'), ('$d_DNA_Repair', '1'), ('$u_Dsh', '1'), ('$d_Dsh', '1'), ('$u_E2F1', '1'), ('$d_E2F1', '1'), ('$u_E_cadherin', '1'), ('$d_E_cadherin', '1'), ('$u_eEF2', '1'), ('$d_eEF2', '1'), ('$u_eEF2K', '1'), ('$d_eEF2K', '1'), ('$u_EMT', '1'), ('$d_EMT', '1'), ('$u_EP300', '1'), ('$d_EP300', '1'), ('$u_ERG', '1'), ('$d_ERG', '1'), ('$u_ERK', '1'), ('$d_ERK', '1'), ('$u_ETS1', '1'), ('$d_ETS1', '1'), ('$u_ETV1', '1'), ('$d_ETV1', '1'), ('$u_EZH2', '1'), ('$d_EZH2', '1'), ('$u_FADD', '1'), ('$d_FADD', '1'), ('$u_FOS', '1'), ('$d_FOS', '1'), ('$u_JUN', '1'), ('$d_JUN', '1'), ('$u_FOXA1', '1'), ('$d_FOXA1', '1'), ('$u_FOXO', '1'), ('$d_FOXO', '1'), ('$u_EGF', '1'), ('$d_EGF', '1'), ('$u_EGFR', '1'), ('$d_EGFR', '1'), ('$u_FGF', '1'), ('$d_FGF', '1'), ('$u_FGFR3', '1'), ('$d_FGFR3', '1'), ('$u_FRS2', '1'), ('$d_FRS2', '1'), ('$u_GADD45', '1'), ('$d_GADD45', '1'), ('$u_GLI', '1'), ('$d_GLI', '1'), ('$u_GLUT1', '1'), ('$d_GLUT1', '1'), ('$u_GSH', '1'), ('$d_GSH', '1'), ('$u_GSK3', '1'), ('$d_GSK3', '1'), ('$u_HIF1', '1'), ('$d_HIF1', '1'), ('$u_HSPs', '1'), ('$d_HSPs', '1'), ('$u_Hypoxia', '1'), ('$d_Hypoxia', '1'), ('$u_IDH1', '1'), ('$d_IDH1', '1'), ('$u_Invasion', '1'), ('$d_Invasion', '1'), ('$u_IKK', '1'), ('$d_IKK', '1'), ('$u_JNK', '1'), ('$d_JNK', '1'), ('$u_Lactic_acid', '1'), ('$d_Lactic_acid', '1'), ('$u_LDHA', '1'), ('$d_LDHA', '1'), ('$u_MAP3K1_3', '1'), ('$d_MAP3K1_3', '1'), ('$u_MDM2', '1'), ('$d_MDM2', '1'), ('$u_MED12', '1'), ('$d_MED12', '1'), ('$u_MEK1_2', '1'), ('$d_MEK1_2', '1'), ('$u_Metastasis', '1'), ('$d_Metastasis', '1'), ('$u_Migration', '1'), ('$d_Migration', '1'), ('$u_ZBTB17', '1'), ('$d_ZBTB17', '1'), ('$u_mTORC2', '1'), ('$d_mTORC2', '1'), ('$u_MXI1', '1'), ('$d_MXI1', '1'), ('$u_MYC', '1'), ('$d_MYC', '1'), ('$u_MYC_MAX', '1'), ('$d_MYC_MAX', '1'), ('$u_NCOA3', '1'), ('$d_NCOA3', '1'), ('$u_NCOR1', '1'), ('$d_NCOR1', '1'), ('$u_NCOR2', '1'), ('$d_NCOR2', '1'), ('$u_NF1', '1'), ('$d_NF1', '1'), ('$u_NF_kB', '1'), ('$d_NF_kB', '1'), ('$u_Nutrients', '1'), ('$d_Nutrients', '1'), ('$u_p14ARF', '1'), ('$d_p14ARF', '1'), ('$u_p15', '1'), ('$d_p15', '1'), ('$u_p21', '1'), ('$d_p21', '1'), ('$u_p38', '1'), ('$d_p38', '1'), ('$u_p53', '1'), ('$d_p53', '1'), ('$u_p70S6kab', '1'), ('$d_p70S6kab', '1'), ('$u_p90RSK', '1'), ('$d_p90RSK', '1'), ('$u_PDK1', '1'), ('$d_PDK1', '1'), ('$u_PHDs', '1'), ('$d_PHDs', '1'), ('$u_PI3K', '1'), ('$d_PI3K', '1'), ('$u_PIP3', '1'), ('$d_PIP3', '1'), ('$u_PKC', '1'), ('$d_PKC', '1'), ('$u_Proliferation', '1'), ('$d_Proliferation', '1'), ('$u_PTCH1', '1'), ('$d_PTCH1', '1'), ('$u_PTEN', '1'), ('$d_PTEN', '1'), ('$u_RAF', '1'), ('$d_RAF', '1'), ('$u_RAGS', '1'), ('$d_RAGS', '1'), ('$u_RAS', '1'), ('$d_RAS', '1'), ('$u_RB1', '1'), ('$d_RB1', '1'), ('$u_Rheb', '1'), ('$d_Rheb', '1'), ('$u_ROS', '1'), ('$d_ROS', '1'), ('$u_RTK', '1'), ('$d_RTK', '1'), ('$u_RUNX2', '1'), ('$d_RUNX2', '1'), ('$u_SHH', '1'), ('$d_SHH', '1'), ('$u_Slug', '1'), ('$d_Slug', '1'), ('$u_SMAD', '1'), ('$d_SMAD', '1'), ('$u_SMO', '1'), ('$d_SMO', '1'), ('$u_Snail', '1'), ('$d_Snail', '1'), ('$u_SPOP', '1'), ('$d_SPOP', '1'), ('$u_TAK1', '1'), ('$d_TAK1', '1'), ('$u_TCF', '1'), ('$d_TCF', '1'), ('$u_TERT', '1'), ('$d_TERT', '1'), ('$u_TGFb', '1'), ('$d_TGFb', '1'), ('$u_TGFBR', '1'), ('$d_TGFBR', '1'), ('$u_fused_event', '1'), ('$d_fused_event', '1'), ('$u_TNFalpha', '1'), ('$d_TNFalpha', '1'), ('$u_TSC1_2', '1'), ('$d_TSC1_2', '1'), ('$u_TWIST1', '1'), ('$d_TWIST1', '1'), ('$u_VEGF', '1'), ('$d_VEGF', '1'), ('$u_VHL', '1'), ('$d_VHL', '1'), ('$u_WNT', '1'), ('$d_WNT', '1'), ('$u_YWHAZ', '1'), ('$d_YWHAZ', '1'), ('$u_AR_ERG', '1'), ('$d_AR_ERG', '1'), ('$u_BMP2', '1'), ('$d_BMP2', '1'), ('$u_Caspase3', '1'), ('$d_Caspase3', '1'), ('$u_NKX3_1', '1'), ('$d_NKX3_1', '1'), ('$u_mTORC1', '1'), ('$d_mTORC1', '1')])\n"
     ]
    }
   ],
   "source": [
    "maboss_model.update_parameters(\n",
    "    time_tick=0.1,\n",
    "    max_time=30,\n",
    "    sample_count=5000,\n",
    "    discrete_time=False,\n",
    "    use_physrandgen=False,\n",
    "    seed_pseudorandom=100\n",
    ")\n",
    "# MC probabilmente vanno modificati altri parametri perché il file CFG fornito differisce da quello che genero io qui.\n",
    "\n",
    "# MC debug.\n",
    "print(maboss_model.param)"
   ]
  },
  {
   "cell_type": "markdown",
   "metadata": {},
   "source": [
    "## Wild type simulation\n",
    "Speicific configurations cna be applied to the network and the resulting model can be used to simulate prostate cells under physiological conditions. This model is called by the authors \"wild type model\"."
   ]
  },
  {
   "cell_type": "code",
   "execution_count": 22,
   "metadata": {},
   "outputs": [],
   "source": [
    "maboss_wt_model = maboss_model.copy()"
   ]
  },
  {
   "cell_type": "markdown",
   "metadata": {},
   "source": [
    "For the first simulation, input nodes and output nodes have initial state 0, while all the other nodes have random initial state:"
   ]
  },
  {
   "cell_type": "code",
   "execution_count": 23,
   "metadata": {},
   "outputs": [],
   "source": [
    "for node in maboss_wt_model.network:\n",
    "    maboss_wt_model.network.set_istate(node, [0.5, 0.5])\n",
    "\n",
    "nodes_zero = df_nodes_pathways.loc[\n",
    "    (df_nodes_pathways[\"pathway\"] == \"Input\") | (df_nodes_pathways[\"pathway\"] == \"Output\")\n",
    "][\"node\"].tolist()\n",
    "for node in nodes_zero:\n",
    "    maboss_wt_model.network.set_istate(node, [1, 0])"
   ]
  },
  {
   "cell_type": "markdown",
   "metadata": {},
   "source": [
    "Only nodes"
   ]
  },
  {
   "cell_type": "code",
   "execution_count": 24,
   "metadata": {},
   "outputs": [],
   "source": [
    "outputs_wt = [\"Apoptosis\", \"DNA_Repair\", \"Metastasis\", \"Proliferation\"]"
   ]
  },
  {
   "cell_type": "markdown",
   "metadata": {},
   "source": [
    "are set as outputs:"
   ]
  },
  {
   "cell_type": "code",
   "execution_count": 25,
   "metadata": {},
   "outputs": [],
   "source": [
    "maboss_wt_model.network.set_output(outputs_wt)"
   ]
  },
  {
   "cell_type": "markdown",
   "metadata": {},
   "source": [
    "The result of the simulation is a plot of trajectories of probabilities of given phenotypes (i.e. the output nodes):"
   ]
  },
  {
   "cell_type": "code",
   "execution_count": 28,
   "metadata": {},
   "outputs": [],
   "source": [
    "maboss_wt_result = maboss_wt_model.run()"
   ]
  },
  {
   "cell_type": "code",
   "execution_count": 29,
   "metadata": {},
   "outputs": [
    {
     "data": {
      "text/plain": [
       "<AxesSubplot:xlabel='Time (a.u.)', ylabel='Node activity (%)'>"
      ]
     },
     "execution_count": 29,
     "metadata": {},
     "output_type": "execute_result"
    },
    {
     "data": {
      "image/png": "[encoded data removed]",
      "text/plain": [
       "<Figure size 640x480 with 1 Axes>"
      ]
     },
     "metadata": {},
     "output_type": "display_data"
    }
   ],
   "source": [
    "maboss_wt_result.get_nodes_probtraj().plot(\n",
    "    legend=True,\n",
    "    xlabel=\"Time (a.u.)\",\n",
    "    ylabel=\"Node activity (%)\"\n",
    ")"
   ]
  }
 ],
 "metadata": {
  "celltoolbar": "Tags",
  "kernelspec": {
   "display_name": "Python 3 (ipykernel)",
   "language": "python",
   "name": "python3"
  },
  "language_info": {
   "codemirror_mode": {
    "name": "ipython",
    "version": 3
   },
   "file_extension": ".py",
   "mimetype": "text/x-python",
   "name": "python",
   "nbconvert_exporter": "python",
   "pygments_lexer": "ipython3",
   "version": "3.9.16"
  }
 },
 "nbformat": 4,
 "nbformat_minor": 2
}
