{
 "cells": [
  {
   "cell_type": "markdown",
   "metadata": {},
   "source": [
    "# Introduction to data analysis for natural and social sciences\n",
    "The present notebook contitutes the first part of the exam. Portions of data analysis and simulations present in article \"Patient-specific Boolean models of signalling networks guide personalised treatments\" are reproduced.\n",
    "\n",
    "Notebook content is based on version 2 of the article, published April 18, 2022 (DOI: https://doi.org/10.7554/eLife.72626)."
   ]
  },
  {
   "cell_type": "markdown",
   "metadata": {},
   "source": [
    "## Imports and global settings\n",
    "Softwares bioLQM and GINsim are used in the notebook to perform operations on the Boolean model. They are accessed through their respective Python interfaces."
   ]
  },
  {
   "cell_type": "code",
   "execution_count": 2,
   "metadata": {},
   "outputs": [
    {
     "data": {
      "text/markdown": [
       "This notebook has been executed using the docker image `colomoto/colomoto-docker:2023-06-01`"
      ],
      "text/plain": [
       "<IPython.core.display.Markdown object>"
      ]
     },
     "metadata": {},
     "output_type": "display_data"
    }
   ],
   "source": [
    "import biolqm\n",
    "import ginsim\n",
    "import matplotlib.pyplot as plt\n",
    "import numpy as np\n",
    "import pandas as pd\n",
    "\n",
    "PATH_REPORT = \"report\"\n",
    "\n",
    "EXT_EXCEL = \"xlsx\"\n",
    "EXT_TAB = \"tsv\""
   ]
  },
  {
   "cell_type": "markdown",
   "metadata": {},
   "source": [
    "# Prostate Boolean model construction\n",
    "The prostate Boolean model is built starting from information available in existing literature. A generic cancer Boolean network is used as baseline and contains information on pathways and interactions between nodes of the underlying signalling network which are commonly found in turmors.\n",
    "\n",
    "Nodes of the network are biological entities involved in the regulation of the functions of the cell, e.g. genes, proteins, environmental conditions, expression factors. Associated to nodes there are information such as logical rules governing the dynamics of the Boolean network and the pathway each node belongs to.\n",
    "\n",
    "Edges represent interactions between the biological entities. They can be positive, when the activation of the source node results in the activation of the target node, or negative, when the activation of the source node inhibites the target node.\n",
    "\n",
    "The initial model is then enriched with prostate cancer-specific information. Software ROMA is used to identify new pathways from transcriptomics and proteomics data, by selecting highly variable genes for each pathway. Transcriptomics data is gathered from The Cancer Genome Atlas (TCGA) selecting gene sets pertained to cancer pathways. Database OmniPath is used to establish connections between genes present in the model and proteins known to have a function in prostate or found with ROMA.\n",
    "\n",
    "The final network consists of 133 nodes and 449 edges. It is then translated to a Boolean model by identifying input nodes, which represent physiological conditions of the cell, and output nodes, which represent phenotypes of normal cell processes or cancer development.\n",
    "\n",
    "## Data exploration\n",
    "In this section, some operations are performed on the network data to develop a better understanding about their organisation and meaning.\n",
    "\n",
    "The authors collected all data in the following Excel files. Data are loaded in Pandas dataframes to make their manipulation easier. Dataframe `df_nodes_pathways` relates pathways to nodes, dataframe `df_nodes_interactions` contains information about edges and nodes, e.g. logical rules, references to literature, interaction types, and dataframe `df_nodes_unique` lists additional information about nodes."
   ]
  },
  {
   "cell_type": "code",
   "execution_count": 18,
   "metadata": {},
   "outputs": [
    {
     "name": "stdout",
     "output_type": "stream",
     "text": [
      "Dataframe df_nodes_pathways\n",
      "<class 'pandas.core.frame.DataFrame'>\n",
      "RangeIndex: 133 entries, 0 to 132\n",
      "Data columns (total 2 columns):\n",
      " #   Column   Non-Null Count  Dtype \n",
      "---  ------   --------------  ----- \n",
      " 0   node     133 non-null    object\n",
      " 1   pathway  133 non-null    object\n",
      "dtypes: object(2)\n",
      "\n",
      "Dataframe df_nodes_interactions\n",
      "<class 'pandas.core.frame.DataFrame'>\n",
      "RangeIndex: 462 entries, 0 to 461\n",
      "Data columns (total 7 columns):\n",
      " #   Column            Non-Null Count  Dtype \n",
      "---  ------            --------------  ----- \n",
      " 0   Target node       462 non-null    object\n",
      " 1   HUGO names        454 non-null    object\n",
      " 2   Interaction type  462 non-null    object\n",
      " 3   Source            462 non-null    object\n",
      " 4   Description       462 non-null    object\n",
      " 5   Reference: PMID   453 non-null    object\n",
      " 6   Logical rule      462 non-null    object\n",
      "dtypes: object(7)\n",
      "\n",
      "Dataframe df_nodes_unique\n",
      "<class 'pandas.core.frame.DataFrame'>\n",
      "RangeIndex: 121 entries, 0 to 120\n",
      "Data columns (total 4 columns):\n",
      " #   Column        Non-Null Count  Dtype \n",
      "---  ------        --------------  ----- \n",
      " 0   Node          121 non-null    object\n",
      " 1   HGNC symbols  121 non-null    object\n",
      " 2   unique        121 non-null    object\n",
      " 3   comments      39 non-null     object\n",
      "dtypes: object(4)"
     ]
    }
   ],
   "source": [
    "fname_nodes_pathways = \"Montagud2022_nodes in pathways.xlsx\"\n",
    "fname_nodes_network = \"Montagud2022_interactions_sources.xlsx\"\n",
    "\n",
    "df_nodes_pathways = pd.read_excel(\n",
    "    io=f\"{PATH_REPORT}/{fname_nodes_pathways}\",\n",
    "    header=None,\n",
    "    names=[\"node\", \"pathway\"]\n",
    ")\n",
    "print(\"Dataframe df_nodes_pathways\")\n",
    "df_nodes_pathways.info(verbose=True, memory_usage=False)\n",
    "\n",
    "sheet_interactions = \"Nodes\"\n",
    "df_nodes_interactions = pd.read_excel(\n",
    "    io=f\"{PATH_REPORT}/{fname_nodes_network}\",\n",
    "    sheet_name=sheet_interactions,\n",
    "    header=1,\n",
    "    converters={\"Reference: PMID\": lambda c: np.str_(c).strip()}  # Remove useless line breaks in cells.\n",
    ")\n",
    "print(\"\\n\\nDataframe df_nodes_interactions\")\n",
    "df_nodes_interactions.info(verbose=True, memory_usage=False)\n",
    "\n",
    "sheet_unique=\"Nodes_unique\"\n",
    "df_nodes_unique = pd.read_excel(\n",
    "    io=f\"{PATH_REPORT}/{fname_nodes_network}\",\n",
    "    sheet_name=sheet_unique\n",
    ")\n",
    "print(\"\\n\\nDataframe df_nodes_unique\")\n",
    "df_nodes_unique.info(verbose=True, memory_usage=False)"
   ]
  },
  {
   "cell_type": "markdown",
   "metadata": {},
   "source": [
    "### Check consistency\n",
    "A single logical rule is associated to each node. Accordingly, the result of grouping interaction data by node and logical rule is a list of 133 rows.\n",
    "\n",
    "Moreover, the number of edges can be obtained by counting pairs of source node and target node, excluding input nodes as targets."
   ]
  },
  {
   "cell_type": "code",
   "execution_count": 23,
   "metadata": {},
   "outputs": [
    {
     "data": {
      "text/html": [
       "<div>\n",
       "<style scoped>\n",
       "    .dataframe tbody tr th:only-of-type {\n",
       "        vertical-align: middle;\n",
       "    }\n",
       "\n",
       "    .dataframe tbody tr th {\n",
       "        vertical-align: top;\n",
       "    }\n",
       "\n",
       "    .dataframe thead th {\n",
       "        text-align: right;\n",
       "    }\n",
       "</style>\n",
       "<table border=\"1\" class=\"dataframe\">\n",
       "  <thead>\n",
       "    <tr style=\"text-align: right;\">\n",
       "      <th></th>\n",
       "      <th></th>\n",
       "      <th>HUGO names</th>\n",
       "      <th>Interaction type</th>\n",
       "      <th>Source</th>\n",
       "      <th>Description</th>\n",
       "      <th>Reference: PMID</th>\n",
       "    </tr>\n",
       "    <tr>\n",
       "      <th>Target node</th>\n",
       "      <th>Logical rule</th>\n",
       "      <th></th>\n",
       "      <th></th>\n",
       "      <th></th>\n",
       "      <th></th>\n",
       "      <th></th>\n",
       "    </tr>\n",
       "  </thead>\n",
       "  <tbody>\n",
       "    <tr>\n",
       "      <th>AKT</th>\n",
       "      <th>((HSPs | (PDK1 &amp; PIP3) | PIP3 | (SHH &amp; PIP3)) &amp; !PTCH1)</th>\n",
       "      <td>5</td>\n",
       "      <td>5</td>\n",
       "      <td>5</td>\n",
       "      <td>5</td>\n",
       "      <td>5</td>\n",
       "    </tr>\n",
       "    <tr>\n",
       "      <th>AMPK</th>\n",
       "      <th>(ATR | HIF1 | AMP_ATP | ATM) &amp; !FGFR3</th>\n",
       "      <td>6</td>\n",
       "      <td>6</td>\n",
       "      <td>6</td>\n",
       "      <td>6</td>\n",
       "      <td>6</td>\n",
       "    </tr>\n",
       "    <tr>\n",
       "      <th>AMP_ATP</th>\n",
       "      <th>(!Nutrients)</th>\n",
       "      <td>1</td>\n",
       "      <td>1</td>\n",
       "      <td>1</td>\n",
       "      <td>1</td>\n",
       "      <td>1</td>\n",
       "    </tr>\n",
       "    <tr>\n",
       "      <th>APAF1</th>\n",
       "      <th>((Caspase8 | BAX | p53 | Bak | HSPs) &amp; !Bcl_XL &amp; !BCL2 &amp; !AKT)</th>\n",
       "      <td>8</td>\n",
       "      <td>8</td>\n",
       "      <td>8</td>\n",
       "      <td>8</td>\n",
       "      <td>8</td>\n",
       "    </tr>\n",
       "    <tr>\n",
       "      <th>AR</th>\n",
       "      <th>((GLI | EP300 | HSPs | NKX3_1 | EZH2 | NCOA3 | PKC | SMAD | Androgen) &amp; !PTEN &amp; !NCOR1 &amp; !NCOR2 &amp; !MDM2)</th>\n",
       "      <td>13</td>\n",
       "      <td>13</td>\n",
       "      <td>13</td>\n",
       "      <td>13</td>\n",
       "      <td>13</td>\n",
       "    </tr>\n",
       "    <tr>\n",
       "      <th>...</th>\n",
       "      <th>...</th>\n",
       "      <td>...</td>\n",
       "      <td>...</td>\n",
       "      <td>...</td>\n",
       "      <td>...</td>\n",
       "      <td>...</td>\n",
       "    </tr>\n",
       "    <tr>\n",
       "      <th>p21</th>\n",
       "      <th>((p53 | SMAD | HIF1 | ZBTB17) &amp; !TERT &amp; !MYC_MAX &amp; !MDM2 &amp; !AKT &amp; !ERK)</th>\n",
       "      <td>9</td>\n",
       "      <td>9</td>\n",
       "      <td>9</td>\n",
       "      <td>9</td>\n",
       "      <td>9</td>\n",
       "    </tr>\n",
       "    <tr>\n",
       "      <th>p38</th>\n",
       "      <th>(MAP3K1_3 &amp; !ERK &amp; !GADD45)</th>\n",
       "      <td>3</td>\n",
       "      <td>3</td>\n",
       "      <td>3</td>\n",
       "      <td>3</td>\n",
       "      <td>3</td>\n",
       "    </tr>\n",
       "    <tr>\n",
       "      <th>p53</th>\n",
       "      <th>((Acidosis | CHK1_2 | p38 | HIF1) &amp; !BCL2 &amp; !MDM2 &amp; !HSPs &amp; !Snail)</th>\n",
       "      <td>9</td>\n",
       "      <td>9</td>\n",
       "      <td>9</td>\n",
       "      <td>9</td>\n",
       "      <td>9</td>\n",
       "    </tr>\n",
       "    <tr>\n",
       "      <th>p70S6kab</th>\n",
       "      <th>(mTORC2 | PDK1)</th>\n",
       "      <td>2</td>\n",
       "      <td>2</td>\n",
       "      <td>2</td>\n",
       "      <td>2</td>\n",
       "      <td>2</td>\n",
       "    </tr>\n",
       "    <tr>\n",
       "      <th>p90RSK</th>\n",
       "      <th>(PDK1 | ERK)</th>\n",
       "      <td>2</td>\n",
       "      <td>2</td>\n",
       "      <td>2</td>\n",
       "      <td>2</td>\n",
       "      <td>2</td>\n",
       "    </tr>\n",
       "  </tbody>\n",
       "</table>\n",
       "<p>133 rows × 5 columns</p>\n",
       "</div>"
      ],
      "text/plain": [
       "                                                                HUGO names  \\\n",
       "Target node Logical rule                                                     \n",
       "AKT         ((HSPs | (PDK1 & PIP3) | PIP3 | (SHH & PIP3)) &...           5   \n",
       "AMPK        (ATR | HIF1 | AMP_ATP | ATM) & !FGFR3                        6   \n",
       "AMP_ATP     (!Nutrients)                                                 1   \n",
       "APAF1       ((Caspase8 | BAX | p53 | Bak | HSPs) & !Bcl_XL ...           8   \n",
       "AR          ((GLI | EP300 | HSPs | NKX3_1 | EZH2 | NCOA3 | ...          13   \n",
       "...                                                                    ...   \n",
       "p21         ((p53 | SMAD | HIF1 | ZBTB17) & !TERT & !MYC_MA...           9   \n",
       "p38         (MAP3K1_3 & !ERK & !GADD45)                                  3   \n",
       "p53         ((Acidosis | CHK1_2 | p38 | HIF1) & !BCL2 & !MD...           9   \n",
       "p70S6kab    (mTORC2 | PDK1)                                              2   \n",
       "p90RSK      (PDK1 | ERK)                                                 2   \n",
       "\n",
       "                                                                Interaction type  \\\n",
       "Target node Logical rule                                                           \n",
       "AKT         ((HSPs | (PDK1 & PIP3) | PIP3 | (SHH & PIP3)) &...                 5   \n",
       "AMPK        (ATR | HIF1 | AMP_ATP | ATM) & !FGFR3                              6   \n",
       "AMP_ATP     (!Nutrients)                                                       1   \n",
       "APAF1       ((Caspase8 | BAX | p53 | Bak | HSPs) & !Bcl_XL ...                 8   \n",
       "AR          ((GLI | EP300 | HSPs | NKX3_1 | EZH2 | NCOA3 | ...                13   \n",
       "...                                                                          ...   \n",
       "p21         ((p53 | SMAD | HIF1 | ZBTB17) & !TERT & !MYC_MA...                 9   \n",
       "p38         (MAP3K1_3 & !ERK & !GADD45)                                        3   \n",
       "p53         ((Acidosis | CHK1_2 | p38 | HIF1) & !BCL2 & !MD...                 9   \n",
       "p70S6kab    (mTORC2 | PDK1)                                                    2   \n",
       "p90RSK      (PDK1 | ERK)                                                       2   \n",
       "\n",
       "                                                                Source  \\\n",
       "Target node Logical rule                                                 \n",
       "AKT         ((HSPs | (PDK1 & PIP3) | PIP3 | (SHH & PIP3)) &...       5   \n",
       "AMPK        (ATR | HIF1 | AMP_ATP | ATM) & !FGFR3                    6   \n",
       "AMP_ATP     (!Nutrients)                                             1   \n",
       "APAF1       ((Caspase8 | BAX | p53 | Bak | HSPs) & !Bcl_XL ...       8   \n",
       "AR          ((GLI | EP300 | HSPs | NKX3_1 | EZH2 | NCOA3 | ...      13   \n",
       "...                                                                ...   \n",
       "p21         ((p53 | SMAD | HIF1 | ZBTB17) & !TERT & !MYC_MA...       9   \n",
       "p38         (MAP3K1_3 & !ERK & !GADD45)                              3   \n",
       "p53         ((Acidosis | CHK1_2 | p38 | HIF1) & !BCL2 & !MD...       9   \n",
       "p70S6kab    (mTORC2 | PDK1)                                          2   \n",
       "p90RSK      (PDK1 | ERK)                                             2   \n",
       "\n",
       "                                                                Description  \\\n",
       "Target node Logical rule                                                      \n",
       "AKT         ((HSPs | (PDK1 & PIP3) | PIP3 | (SHH & PIP3)) &...            5   \n",
       "AMPK        (ATR | HIF1 | AMP_ATP | ATM) & !FGFR3                         6   \n",
       "AMP_ATP     (!Nutrients)                                                  1   \n",
       "APAF1       ((Caspase8 | BAX | p53 | Bak | HSPs) & !Bcl_XL ...            8   \n",
       "AR          ((GLI | EP300 | HSPs | NKX3_1 | EZH2 | NCOA3 | ...           13   \n",
       "...                                                                     ...   \n",
       "p21         ((p53 | SMAD | HIF1 | ZBTB17) & !TERT & !MYC_MA...            9   \n",
       "p38         (MAP3K1_3 & !ERK & !GADD45)                                   3   \n",
       "p53         ((Acidosis | CHK1_2 | p38 | HIF1) & !BCL2 & !MD...            9   \n",
       "p70S6kab    (mTORC2 | PDK1)                                               2   \n",
       "p90RSK      (PDK1 | ERK)                                                  2   \n",
       "\n",
       "                                                                Reference: PMID  \n",
       "Target node Logical rule                                                         \n",
       "AKT         ((HSPs | (PDK1 & PIP3) | PIP3 | (SHH & PIP3)) &...                5  \n",
       "AMPK        (ATR | HIF1 | AMP_ATP | ATM) & !FGFR3                             6  \n",
       "AMP_ATP     (!Nutrients)                                                      1  \n",
       "APAF1       ((Caspase8 | BAX | p53 | Bak | HSPs) & !Bcl_XL ...                8  \n",
       "AR          ((GLI | EP300 | HSPs | NKX3_1 | EZH2 | NCOA3 | ...               13  \n",
       "...                                                                         ...  \n",
       "p21         ((p53 | SMAD | HIF1 | ZBTB17) & !TERT & !MYC_MA...                9  \n",
       "p38         (MAP3K1_3 & !ERK & !GADD45)                                       3  \n",
       "p53         ((Acidosis | CHK1_2 | p38 | HIF1) & !BCL2 & !MD...                9  \n",
       "p70S6kab    (mTORC2 | PDK1)                                                   2  \n",
       "p90RSK      (PDK1 | ERK)                                                      2  \n",
       "\n",
       "[133 rows x 5 columns]"
      ]
     },
     "metadata": {},
     "output_type": "display_data"
    },
    {
     "data": {
      "text/html": [
       "<div>\n",
       "<style scoped>\n",
       "    .dataframe tbody tr th:only-of-type {\n",
       "        vertical-align: middle;\n",
       "    }\n",
       "\n",
       "    .dataframe tbody tr th {\n",
       "        vertical-align: top;\n",
       "    }\n",
       "\n",
       "    .dataframe thead th {\n",
       "        text-align: right;\n",
       "    }\n",
       "</style>\n",
       "<table border=\"1\" class=\"dataframe\">\n",
       "  <thead>\n",
       "    <tr style=\"text-align: right;\">\n",
       "      <th></th>\n",
       "      <th></th>\n",
       "      <th>HUGO names</th>\n",
       "      <th>Interaction type</th>\n",
       "      <th>Description</th>\n",
       "      <th>Reference: PMID</th>\n",
       "      <th>Logical rule</th>\n",
       "    </tr>\n",
       "    <tr>\n",
       "      <th>Target node</th>\n",
       "      <th>Source</th>\n",
       "      <th></th>\n",
       "      <th></th>\n",
       "      <th></th>\n",
       "      <th></th>\n",
       "      <th></th>\n",
       "    </tr>\n",
       "  </thead>\n",
       "  <tbody>\n",
       "    <tr>\n",
       "      <th rowspan=\"5\" valign=\"top\">AKT</th>\n",
       "      <th>HSPs</th>\n",
       "      <td>1</td>\n",
       "      <td>1</td>\n",
       "      <td>1</td>\n",
       "      <td>1</td>\n",
       "      <td>1</td>\n",
       "    </tr>\n",
       "    <tr>\n",
       "      <th>PDK1</th>\n",
       "      <td>1</td>\n",
       "      <td>1</td>\n",
       "      <td>1</td>\n",
       "      <td>1</td>\n",
       "      <td>1</td>\n",
       "    </tr>\n",
       "    <tr>\n",
       "      <th>PIP3</th>\n",
       "      <td>1</td>\n",
       "      <td>1</td>\n",
       "      <td>1</td>\n",
       "      <td>1</td>\n",
       "      <td>1</td>\n",
       "    </tr>\n",
       "    <tr>\n",
       "      <th>PTCH1</th>\n",
       "      <td>1</td>\n",
       "      <td>1</td>\n",
       "      <td>1</td>\n",
       "      <td>1</td>\n",
       "      <td>1</td>\n",
       "    </tr>\n",
       "    <tr>\n",
       "      <th>SHH</th>\n",
       "      <td>1</td>\n",
       "      <td>1</td>\n",
       "      <td>1</td>\n",
       "      <td>1</td>\n",
       "      <td>1</td>\n",
       "    </tr>\n",
       "    <tr>\n",
       "      <th>...</th>\n",
       "      <th>...</th>\n",
       "      <td>...</td>\n",
       "      <td>...</td>\n",
       "      <td>...</td>\n",
       "      <td>...</td>\n",
       "      <td>...</td>\n",
       "    </tr>\n",
       "    <tr>\n",
       "      <th>p53</th>\n",
       "      <th>p38</th>\n",
       "      <td>1</td>\n",
       "      <td>1</td>\n",
       "      <td>1</td>\n",
       "      <td>1</td>\n",
       "      <td>1</td>\n",
       "    </tr>\n",
       "    <tr>\n",
       "      <th rowspan=\"2\" valign=\"top\">p70S6kab</th>\n",
       "      <th>PDK1</th>\n",
       "      <td>1</td>\n",
       "      <td>1</td>\n",
       "      <td>1</td>\n",
       "      <td>1</td>\n",
       "      <td>1</td>\n",
       "    </tr>\n",
       "    <tr>\n",
       "      <th>mTORC2</th>\n",
       "      <td>1</td>\n",
       "      <td>1</td>\n",
       "      <td>1</td>\n",
       "      <td>1</td>\n",
       "      <td>1</td>\n",
       "    </tr>\n",
       "    <tr>\n",
       "      <th rowspan=\"2\" valign=\"top\">p90RSK</th>\n",
       "      <th>ERK</th>\n",
       "      <td>1</td>\n",
       "      <td>1</td>\n",
       "      <td>1</td>\n",
       "      <td>1</td>\n",
       "      <td>1</td>\n",
       "    </tr>\n",
       "    <tr>\n",
       "      <th>PDK1</th>\n",
       "      <td>1</td>\n",
       "      <td>1</td>\n",
       "      <td>1</td>\n",
       "      <td>1</td>\n",
       "      <td>1</td>\n",
       "    </tr>\n",
       "  </tbody>\n",
       "</table>\n",
       "<p>449 rows × 5 columns</p>\n",
       "</div>"
      ],
      "text/plain": [
       "                    HUGO names  Interaction type  Description  \\\n",
       "Target node Source                                              \n",
       "AKT         HSPs             1                 1            1   \n",
       "            PDK1             1                 1            1   \n",
       "            PIP3             1                 1            1   \n",
       "            PTCH1            1                 1            1   \n",
       "            SHH              1                 1            1   \n",
       "...                        ...               ...          ...   \n",
       "p53         p38              1                 1            1   \n",
       "p70S6kab    PDK1             1                 1            1   \n",
       "            mTORC2           1                 1            1   \n",
       "p90RSK      ERK              1                 1            1   \n",
       "            PDK1             1                 1            1   \n",
       "\n",
       "                    Reference: PMID  Logical rule  \n",
       "Target node Source                                 \n",
       "AKT         HSPs                  1             1  \n",
       "            PDK1                  1             1  \n",
       "            PIP3                  1             1  \n",
       "            PTCH1                 1             1  \n",
       "            SHH                   1             1  \n",
       "...                             ...           ...  \n",
       "p53         p38                   1             1  \n",
       "p70S6kab    PDK1                  1             1  \n",
       "            mTORC2                1             1  \n",
       "p90RSK      ERK                   1             1  \n",
       "            PDK1                  1             1  \n",
       "\n",
       "[449 rows x 5 columns]"
      ]
     },
     "metadata": {},
     "output_type": "display_data"
    }
   ],
   "source": [
    "display(df_nodes_interactions.groupby([\"Target node\", \"Logical rule\"]).count())\n",
    "\n",
    "df_edge_no_inputs = df_nodes_interactions.loc[df_nodes_interactions[\"Source\"] != \"0/1\"]\n",
    "display(df_edge_no_inputs.groupby([\"Target node\", \"Source\"]).count())\n",
    "del df_edge_no_inputs"
   ]
  },
  {
   "cell_type": "code",
   "execution_count": 64,
   "metadata": {},
   "outputs": [],
   "source": [
    "# MC debug, remove in v0.2.0\n",
    "# df_nodes_unique contains only 121 nodes and not 133 as df_nodes_pathways.\n",
    "# In other words, df_nodes_unique[\"Node\"] should be a subset of df_nodes_pathways[\"node\"].\n",
    "# Why is that? Let's find out.\n",
    "\n",
    "df = df_nodes_pathways.set_index(\"node\")\n",
    "df_subset = df_nodes_unique.set_index(\"Node\")\n",
    "\n",
    "# The input nodes should be all removed since they are not regulated (by authors' design),\n",
    "# hence they are not part of any pathway. But this is not what happens.\n",
    "display(df.loc[df[\"pathway\"] == \"Input\"])\n",
    "display(df.drop(labels=df_subset.index, errors=\"ignore\"))\n",
    "\n",
    "# Moreover, in df_nodes_unique there is a node called MAX which is not part of the nodes considered for the final network.\n",
    "# Surprisingly, it is not present among the nodes in df_nodes_interactions.\n",
    "try:\n",
    "    df.drop(labels=df_subset.index)\n",
    "except Exception as e:\n",
    "    print(e)\n",
    "finally:\n",
    "    del df\n",
    "    del df_subset\n",
    "\n",
    "# In conclusion, it seems that the choice of nodes from the Excel files can not be deduced directly\n",
    "# just from the observation of the content of the files.\n",
    "# In particular, I should use data in df_nodes_unique with caution,\n",
    "# since their relation with the other data is not straightforward."
   ]
  },
  {
   "cell_type": "markdown",
   "metadata": {},
   "source": [
    "### Data export\n",
    "Data about nodes are exported in files with tab-separated values (TSV) format. Exported data can be imported in software Cytoscape for later use."
   ]
  },
  {
   "cell_type": "code",
   "execution_count": 65,
   "metadata": {},
   "outputs": [],
   "source": [
    "name_nodes_pathways = fname_nodes_pathways.removesuffix(f\".{EXT_EXCEL}\")\n",
    "name_nodes_network = fname_nodes_network.removesuffix(f\".{EXT_EXCEL}\")\n",
    "\n",
    "df_nodes_pathways.to_csv(\n",
    "    path_or_buf=f\"{name_nodes_pathways}.{EXT_TAB}\",\n",
    "    sep='\\t',\n",
    "    index=False\n",
    ")\n",
    "df_nodes_interactions.to_csv(\n",
    "    path_or_buf=f\"{name_nodes_network}_{sheet_interactions}.{EXT_TAB}\",\n",
    "    sep='\\t',\n",
    "    index=False\n",
    ")\n",
    "df_nodes_unique.to_csv(\n",
    "    path_or_buf=f\"{name_nodes_network}_{sheet_unique}.{EXT_TAB}\",\n",
    "    sep='\\t',\n",
    "    index=False\n",
    ")"
   ]
  },
  {
   "cell_type": "markdown",
   "metadata": {},
   "source": [
    "Mandatory data to recreate the network are: source nodes, target nodes, interaction types, logical rules and pathways. A single file with at least these data can be constructed.\n",
    "\n",
    "A note on the use of this file in Cytoscape: node \"0/1\" should be hidden because it is generated by the software as source node for the input nodes."
   ]
  },
  {
   "cell_type": "code",
   "execution_count": 66,
   "metadata": {},
   "outputs": [],
   "source": [
    "df_cytoscape = df_nodes_interactions.join(\n",
    "    other=df_nodes_pathways.set_index(\"node\"),\n",
    "    on=\"Target node\"\n",
    ")\n",
    "df_cytoscape.to_csv(\n",
    "    path_or_buf=f\"cytoscape_data.{EXT_TAB}\",\n",
    "    sep='\\t',\n",
    "    index=False\n",
    ")"
   ]
  },
  {
   "cell_type": "markdown",
   "metadata": {},
   "source": [
    "To build the regulatory network, GINsim is used by the authors. The resulting network is exported as ZGINML file, available in the Supplementary file 1 under the name specified in variable `fname_model`. The ZGINML file is then imported in Cytoscape for visual improvement."
   ]
  },
  {
   "cell_type": "code",
   "execution_count": 67,
   "metadata": {},
   "outputs": [],
   "source": [
    "fname_model = \"Montagud2022_Prostate_Cancer.zginml\""
   ]
  },
  {
   "cell_type": "markdown",
   "metadata": {},
   "source": [
    "### Network visualisation with GINsim<a id=\"sec:network_visualisation_with_ginsim\"></a>\n",
    "The GINsim model can be used directly for some tasks and all the information are contained in the ZGINML file. For instance the whole network can be displayed."
   ]
  },
  {
   "cell_type": "code",
   "execution_count": 69,
   "metadata": {
    "scrolled": false
   },
   "outputs": [],
   "source": [
    "ginsim_model = ginsim.load(f\"{PATH_REPORT}/{fname_model}\")\n",
    "\n",
    "ginsim.show(ginsim_model)"
   ]
  },
  {
   "cell_type": "markdown",
   "metadata": {},
   "source": [
    "### Comparison with reference network\n",
    "Only nine nodes are referred as proper inputs in the article (cfr. Appendix 1.2.3 and subsection \"Boolean model construction\" in section \"Materials and methods\"). The remaining two are \"fused_event\" and \"SPOP\".\n",
    "\n",
    "Node \"fused_event\" is present to consider the condition of fusion between gene promoter TMPRSS2 and transcription factor ERG and is added manually based on existing literature (cfr. Appendix 1.1.5 and subsection \"Prior knowledge network construction\" in section \"Materials and methods\").\n",
    "\n",
    "Node \"SPOP\" is present to consider mutations of gene SPOP which are frequent in prostate cancer (cfr. Appendix 1.1.2).\n",
    "\n",
    "The following are supplied data regarding each of these nodes."
   ]
  },
  {
   "cell_type": "code",
   "execution_count": 68,
   "metadata": {
    "scrolled": false
   },
   "outputs": [],
   "source": [
    "display(df_nodes_interactions.loc[df_nodes_interactions[\"Target node\"] == \"fused_event\"])\n",
    "display(df_nodes_interactions.loc[df_nodes_interactions[\"Source\"] == \"fused_event\"])\n",
    "\n",
    "display(df_nodes_interactions.loc[df_nodes_interactions[\"Target node\"] == \"SPOP\"])\n",
    "display(df_nodes_interactions.loc[df_nodes_interactions[\"Source\"] == \"SPOP\"])"
   ]
  },
  {
   "cell_type": "markdown",
   "metadata": {},
   "source": [
    "### Variation from reference for interactions of node \"SPOP\"\n",
    "Inspecting imported data, node \"SPOP\" turns out to be an inhibitor for only three of its four children nodes (i.e. negative interaction type), but in the reference network all four interactions are set as inhibiting, following the respective logical rules.\n",
    "\n",
    "This difference can be seen comparing the nodes from the Excel files which have \"SPOP\" as source node and the plot of the network loaded from the ZGINML file, made for example with GINsim (cfr. notebook section [Network visualisation with GINsim](#sec:network_visualisation_with_ginsim)).\n",
    "\n",
    "Logical rules show the correct behaviour."
   ]
  },
  {
   "cell_type": "code",
   "execution_count": 70,
   "metadata": {},
   "outputs": [],
   "source": [
    "pat_old = pd.get_option(\"display.max_colwidth\")\n",
    "pd.set_option(\"display.max_colwidth\", None)\n",
    "display(df_nodes_interactions.loc[df_nodes_interactions[\"Source\"] == \"SPOP\", (\"Target node\", \"Interaction type\", \"Description\")])\n",
    "pd.set_option(\"display.max_colwidth\", pat_old)\n",
    "del pat_old"
   ]
  },
  {
   "cell_type": "markdown",
   "metadata": {},
   "source": [
    "### Stable states evaluation with bioLQM\n",
    "The stable states of the model can be found exactly. Here this task is performed by bioLQM."
   ]
  },
  {
   "cell_type": "code",
   "execution_count": 71,
   "metadata": {},
   "outputs": [],
   "source": [
    "biolqm_model = ginsim.to_biolqm(ginsim_model)\n",
    "#biolqm_fixpoints = biolqm.fixpoints(biolqm_model)  # Comment out to speed up the execution of the notebook."
   ]
  },
  {
   "cell_type": "markdown",
   "metadata": {},
   "source": [
    "# Prostate Boolean model simulation\n",
    "MC explain breifly what are simulations. How they are done in general: set initial conditions, select the observed output nodes and run the stochastic simulation wiht maboss.\n",
    "\n",
    "To perform simulations using the Boolean model, MaBoSS is used. First, configurations and information about the model are extracted from the GINsim model, then the number of trajectories and other configurations are set."
   ]
  },
  {
   "cell_type": "code",
   "execution_count": 73,
   "metadata": {},
   "outputs": [],
   "source": [
    "maboss_model = ginsim.to_maboss(ginsim_model)\n",
    "\n",
    "maboss_model.update_parameters(\n",
    "    max_time=30,\n",
    "    sample_count=5000\n",
    ")"
   ]
  },
  {
   "cell_type": "markdown",
   "metadata": {},
   "source": [
    "## Wild type simulation\n",
    "Specific configurations can be applied to the network and the resulting model can be used to simulate prostate cells under physiological conditions. This model is called by the authors \"wild type model\".\n",
    "\n",
    "Simulations using wild type model set inactive initial state to output nodes, active initial state to some input states as specified in the following examples and random initial state to the remaining nodes.\n",
    "\n",
    "For the first simulation, input nodes of the network have initial state inactive and only some of the output nodes are chosen as outputs of the simulation."
   ]
  },
  {
   "cell_type": "code",
   "execution_count": 74,
   "metadata": {},
   "outputs": [],
   "source": [
    "maboss_wtA_model = maboss_model.copy()\n",
    "\n",
    "for node in maboss_wtA_model.network:\n",
    "    maboss_wtA_model.network.set_istate(node, [0.5, 0.5])\n",
    "\n",
    "inactives_wtA = df_nodes_pathways.loc[\n",
    "    (df_nodes_pathways[\"pathway\"] == \"Input\") | (df_nodes_pathways[\"pathway\"] == \"Output\")\n",
    "][\"node\"].tolist()\n",
    "for node in inactives_wtA:\n",
    "    maboss_wtA_model.network.set_istate(node, [1, 0])\n",
    "\n",
    "outputs_wtA = [\"Apoptosis\", \"DNA_Repair\", \"Metastasis\", \"Proliferation\"]\n",
    "maboss_wtA_model.network.set_output(outputs_wtA)"
   ]
  },
  {
   "cell_type": "markdown",
   "metadata": {},
   "source": [
    "The result of the simulation is a plot of trajectories of probabilities of given phenotypes (i.e. the output of the simulation)."
   ]
  },
  {
   "cell_type": "code",
   "execution_count": 75,
   "metadata": {
    "scrolled": false
   },
   "outputs": [],
   "source": [
    "maboss_wtA_result = maboss_wtA_model.run()\n",
    "\n",
    "maboss_wtA_result.get_nodes_probtraj().plot(\n",
    "    legend=True,\n",
    "    xlabel=\"Time (a.u.)\",\n",
    "    ylabel=\"Node activity (%)\"\n",
    ")\n",
    "plt.savefig(\"3A.pdf\")"
   ]
  },
  {
   "cell_type": "markdown",
   "metadata": {},
   "source": [
    "The second simulation has input nodes in list `actives_wtB` active from the start. Moreover node \"SPOP\" is set with random initial state.\n",
    "\n",
    "Phenotypes of the second simulation are listed in variable `outputs_wtB` and includes some intermediate nodes other than some output nodes."
   ]
  },
  {
   "cell_type": "code",
   "execution_count": 76,
   "metadata": {},
   "outputs": [],
   "source": [
    "maboss_wtB_model = maboss_wtA_model.copy()\n",
    "\n",
    "actives_wtB = [\"EGF\", \"FGF\", \"Nutrients\", \"Androgen\"]\n",
    "for node in actives_wtB:\n",
    "    maboss_wtB_model.network.set_istate(node, [0, 1])\n",
    "maboss_wtB_model.network.set_istate(\"SPOP\", [0.5, 0.5])\n",
    "\n",
    "outputs_wtB = [\"Apoptosis\", \"CyclinD\", \"E2F1\", \"Metastasis\", \"Proliferation\", \"p53\"]\n",
    "maboss_wtB_model.network.set_output(outputs_wtB)"
   ]
  },
  {
   "cell_type": "markdown",
   "metadata": {},
   "source": [
    "The trajectory plot of the second simulation is:"
   ]
  },
  {
   "cell_type": "code",
   "execution_count": 77,
   "metadata": {
    "scrolled": false
   },
   "outputs": [],
   "source": [
    "maboss_wtB_result = maboss_wtB_model.run()\n",
    "\n",
    "maboss_wtB_result.get_nodes_probtraj().plot(\n",
    "    legend=True,\n",
    "    xlabel=\"Time (a.u.)\",\n",
    "    ylabel=\"Node activity (%)\"\n",
    ")\n",
    "plt.savefig(\"3B.pdf\")"
   ]
  },
  {
   "cell_type": "markdown",
   "metadata": {},
   "source": [
    "The third simulation is executed with initial state active for the nodes in list `actives_wtC` and the output nodes are the same of the second simulation."
   ]
  },
  {
   "cell_type": "code",
   "execution_count": 78,
   "metadata": {},
   "outputs": [],
   "source": [
    "maboss_wtC_model = maboss_wtA_model.copy()\n",
    "\n",
    "actives_wtC = [\"Carcinogen\", \"Androgen\", \"TNFalpha\", \"Acidosis\", \"Hypoxia\"]\n",
    "for node in actives_wtC:\n",
    "    maboss_wtC_model.network.set_istate(node, [0, 1])\n",
    "\n",
    "maboss_wtC_model.network.set_output(outputs_wtB)"
   ]
  },
  {
   "cell_type": "markdown",
   "metadata": {},
   "source": [
    "The trajectory plot of the third simulation is:"
   ]
  },
  {
   "cell_type": "code",
   "execution_count": 79,
   "metadata": {},
   "outputs": [],
   "source": [
    "maboss_wtC_result = maboss_wtC_model.run()\n",
    "\n",
    "maboss_wtC_result.get_nodes_probtraj().plot(\n",
    "    legend=True,\n",
    "    xlabel=\"Time (a.u.)\",\n",
    "    ylabel=\"Node activity (%)\"\n",
    ")\n",
    "plt.savefig(\"3C.pdf\")"
   ]
  },
  {
   "cell_type": "markdown",
   "metadata": {},
   "source": [
    "## Model validation\n",
    "The model is validated by simulating some known interactions between genes in prostate cells under physiological conditions.\n",
    "\n",
    "For example the order of events during cell cycle is tested. In this case the initial conditions are active growth factors and nutrients, along with nodes related to the activation of the cell cycle, while the cyclins start inactive. All the other nodes have random initial state. The outputs are list in variable `outputs_cellcycle`."
   ]
  },
  {
   "cell_type": "code",
   "execution_count": 80,
   "metadata": {},
   "outputs": [],
   "source": [
    "maboss_cellcycle_model = maboss_wtA_model.copy()\n",
    "\n",
    "actives_cellcycle = [\"EGF\", \"FGF\", \"Nutrients\", \"p21\", \"RB1\"]\n",
    "for node in actives_cellcycle:\n",
    "    maboss_cellcycle_model.network.set_istate(node, [0, 1])\n",
    "\n",
    "inactives_cellcycle = [\"CyclinB\", \"CyclinD\", \"E2F1\"]\n",
    "for node in inactives_cellcycle:\n",
    "    maboss_cellcycle_model.network.set_istate(node, [1, 0])\n",
    "\n",
    "outputs_cellcycle = [\"CyclinB\", \"CyclinD\", \"E2F1\", \"Proliferation\"]\n",
    "maboss_cellcycle_model.network.set_output(outputs_cellcycle)"
   ]
  },
  {
   "cell_type": "markdown",
   "metadata": {},
   "source": [
    "The result of the simulation are the following trajectories:"
   ]
  },
  {
   "cell_type": "code",
   "execution_count": 81,
   "metadata": {},
   "outputs": [],
   "source": [
    "maboss_cellcycle_result = maboss_cellcycle_model.run()\n",
    "\n",
    "maboss_cellcycle_result.get_nodes_probtraj().plot(\n",
    "    legend=True,\n",
    "    xlabel=\"Time (a.u.)\",\n",
    "    ylabel=\"Cell Cycle activation (node probabilities)\"\n",
    ")\n",
    "plt.savefig(\"5.pdf\")"
   ]
  },
  {
   "cell_type": "markdown",
   "metadata": {},
   "source": [
    "## Mutants simulation\n",
    "The model can be used to study the effect of mutations which activate or disable some nodes, or in general which deviate their functioning from physiological conditions.\n",
    "\n",
    "### Single mutations\n",
    "One case is the permanent inactivation of node \"FOXA1\". Except for the mutation, this simulation has the same initial conditions as the wild type model and all the output nodes are observed as phenotypes."
   ]
  },
  {
   "cell_type": "code",
   "execution_count": 82,
   "metadata": {},
   "outputs": [],
   "source": [
    "maboss_FOXA1_model = maboss_wtA_model.copy()\n",
    "\n",
    "maboss_FOXA1_model.mutate(\"FOXA1\", \"OFF\")\n",
    "\n",
    "# MC debug experimenting.\n",
    "maboss_FOXA1_model.network.set_istate(\"EGF\", [0,1])\n",
    "maboss_FOXA1_model.network.set_istate(\"FGF\", [0,1])\n",
    "maboss_FOXA1_model.network.set_istate(\"Nutrients\", [0,1])\n",
    "maboss_FOXA1_model.network.set_istate(\"SPOP\", [0.5,0.5])\n",
    "\n",
    "outputs_network = df_nodes_pathways.loc[df_nodes_pathways[\"pathway\"] == \"Output\"][\"node\"].tolist()\n",
    "maboss_FOXA1_model.network.set_output(outputs_network)"
   ]
  },
  {
   "cell_type": "markdown",
   "metadata": {},
   "source": [
    "The results of this simulation are"
   ]
  },
  {
   "cell_type": "code",
   "execution_count": 83,
   "metadata": {},
   "outputs": [],
   "source": [
    "maboss_FOXA1_result = maboss_FOXA1_model.run()\n",
    "\n",
    "maboss_FOXA1_result.get_nodes_probtraj().plot(\n",
    "    legend=True,\n",
    "    xlabel=\"Time (a.u.)\",\n",
    "    ylabel=\"FOXA1 OFF - Phenotypes\"\n",
    ")\n",
    "plt.savefig(\"6A.pdf\")"
   ]
  },
  {
   "cell_type": "markdown",
   "metadata": {},
   "source": [
    "Another mutation affecting a single node is the inactivation of gene TP53, which affects the inactivation of node \"p53\". Phenotype \"Caspase3\" is added to the outputs of the previous simulation."
   ]
  },
  {
   "cell_type": "code",
   "execution_count": 84,
   "metadata": {},
   "outputs": [],
   "source": [
    "maboss_p53_model = maboss_wtA_model.copy()\n",
    "\n",
    "maboss_p53_model.mutate(\"p53\", \"OFF\")\n",
    "\n",
    "outputs_p53 = outputs_network.copy()\n",
    "outputs_p53.append(\"Caspase3\")\n",
    "maboss_p53_model.network.set_output(outputs_p53)"
   ]
  },
  {
   "cell_type": "markdown",
   "metadata": {},
   "source": [
    "The result of the simulation is"
   ]
  },
  {
   "cell_type": "code",
   "execution_count": 85,
   "metadata": {},
   "outputs": [],
   "source": [
    "maboss_p53_result = maboss_p53_model.run()\n",
    "\n",
    "maboss_p53_result.get_nodes_probtraj().plot(\n",
    "    legend=True,\n",
    "    xlabel=\"Time (a.u.)\",\n",
    "    ylabel=\"TP53 OFF - Phenotypes\"\n",
    ")\n",
    "plt.savefig(\"6B.pdf\")"
   ]
  },
  {
   "cell_type": "markdown",
   "metadata": {},
   "source": [
    "### Multiple mutations\n",
    "During cancer progression multiple mutations accumulate and their effects and interactions can be simulated.\n",
    "\n",
    "An example is the interaction between gene fusion TMPRSS2:ERG and a loss-of-function mutation of gene NKX3_1. The starting model is the wild type model, with active nodes in list `actives_multiple` and random value for node \"SPOP\" as initial conditions. Outputs of the simulation are the output nodes of the network. Then mutations are applied simultaneously."
   ]
  },
  {
   "cell_type": "code",
   "execution_count": 87,
   "metadata": {},
   "outputs": [],
   "source": [
    "maboss_multiple_model = maboss_wtA_model.copy()\n",
    "\n",
    "actives_multiple = [\"EGF\", \"FGF\", \"Nutrients\", \"Carcinogen\"]\n",
    "for node in actives_multiple:\n",
    "    maboss_multiple_model.network.set_istate(node, [0, 1])\n",
    "maboss_multiple_model.network.set_istate(\"SPOP\", [0.5, 0.5])\n",
    "\n",
    "outputs_network.append(\"AR_ERG\")  # MC debug experimenting.\n",
    "maboss_multiple_model.network.set_output(outputs_network)\n",
    "\n",
    "maboss_multiple_model.mutate(\"AR_ERG\", \"ON\")\n",
    "#maboss_multiple_model.network.set_istate(\"AR_ERG\", [0, 1])  # MC debug experimenting.\n",
    "maboss_multiple_model.mutate(\"NKX3_1\", \"OFF\")"
   ]
  },
  {
   "cell_type": "markdown",
   "metadata": {},
   "source": [
    "The result of the simulation is"
   ]
  },
  {
   "cell_type": "code",
   "execution_count": 88,
   "metadata": {
    "scrolled": false
   },
   "outputs": [],
   "source": [
    "maboss_multiple_result = maboss_multiple_model.run()\n",
    "\n",
    "maboss_multiple_result.get_nodes_probtraj().plot(\n",
    "    legend=True,\n",
    "    xlabel=\"Time (a.u.)\",\n",
    "    ylabel=\"AR_ERG ON / NXK3-1 - Phenotypes\"\n",
    ")\n",
    "plt.savefig(\"7.pdf\")"
   ]
  },
  {
   "cell_type": "code",
   "execution_count": 89,
   "metadata": {},
   "outputs": [],
   "source": [
    "# MC debug experimenting.\n",
    "display(df_nodes_interactions.info())\n",
    "display(df_nodes_interactions.loc[\n",
    "    (df_nodes_interactions[\"Target node\"] == \"Metastasis\") |\n",
    "    (df_nodes_interactions[\"Target node\"] == \"Migration\") |\n",
    "    (df_nodes_interactions[\"Target node\"] == \"Invasion\")\n",
    "])"
   ]
  },
  {
   "cell_type": "markdown",
   "metadata": {},
   "source": [
    "# Personalisation of the prostate Boolean model\n",
    "The wild type model can be integrated with data derived from experiments and existing databases, to create personalised models for patient-specific analysis and treatments. Authors follow their PROFILE methodology using bulk omics data.\n",
    "\n",
    "## Phenotype distribution of TCGA patients"
   ]
  }
 ],
 "metadata": {
  "kernelspec": {
   "display_name": "Python 3 (ipykernel)",
   "language": "python",
   "name": "python3"
  },
  "language_info": {
   "codemirror_mode": {
    "name": "ipython",
    "version": 3
   },
   "file_extension": ".py",
   "mimetype": "text/x-python",
   "name": "python",
   "nbconvert_exporter": "python",
   "pygments_lexer": "ipython3",
   "version": "3.9.16"
  }
 },
 "nbformat": 4,
 "nbformat_minor": 2
}
