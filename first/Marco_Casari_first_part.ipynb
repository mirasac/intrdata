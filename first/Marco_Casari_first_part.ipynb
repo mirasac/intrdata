{
 "cells": [
  {
   "cell_type": "code",
   "execution_count": 1,
   "metadata": {},
   "outputs": [
    {
     "name": "stdout",
     "output_type": "stream",
     "text": [
      "Montagud2022_Prostate_Cancer.bnd\n",
      "Montagud2022_Prostate_Cancer.cfg\n",
      "Montagud2022_Prostate_Cancer.zginml\n",
      "Montagud2022_interactions_sources.xlsx\n",
      "Montagud2022_nodes in pathways.xlsx\n",
      "elife-72626-v2.pdf\n",
      "supplementary_files\n"
     ]
    }
   ],
   "source": [
    "%%sh\n",
    "# MC delete this cell at the end, as it is just for interfacing with the underlying linux environment.\n",
    "ls report/"
   ]
  },
  {
   "cell_type": "markdown",
   "metadata": {},
   "source": [
    "# Introduction to data analysis for natural and social sciences\n",
    "This notebook contitutes the first part of the exam.\n",
    "\n",
    "Here the steps of article \"Patient-specific Boolean models of signalling networks guide personalised treatments\" are retraced and the results reproduced."
   ]
  },
  {
   "cell_type": "markdown",
   "metadata": {},
   "source": [
    "## Imports and global settings"
   ]
  },
  {
   "cell_type": "code",
   "execution_count": 5,
   "metadata": {},
   "outputs": [],
   "source": [
    "import pandas as pd"
   ]
  },
  {
   "cell_type": "code",
   "execution_count": 45,
   "metadata": {},
   "outputs": [],
   "source": [
    "PATH_REPORT = \"report\"\n",
    "\n",
    "EXT_EXCEL = \"xlsx\"\n",
    "EXT_TAB = \"tsv\""
   ]
  },
  {
   "cell_type": "markdown",
   "metadata": {},
   "source": [
    "# Prostate Boolean model construction\n",
    "The Boolean model is constructed starting from information available in literature. Then further pathways are identified by the use of software ROMA and pypath and they are added to the existing network.\n",
    "\n",
    "The authors collected all the data regarding the network such as nodes, their role, logical rules etc. in the two following Excel files:"
   ]
  },
  {
   "cell_type": "code",
   "execution_count": 46,
   "metadata": {},
   "outputs": [],
   "source": [
    "f_nodes_pathways = \"Montagud2022_nodes in pathways.xlsx\"\n",
    "f_nodes_network = \"Montagud2022_interactions_sources.xlsx\""
   ]
  },
  {
   "cell_type": "markdown",
   "metadata": {},
   "source": [
    "Data are loaded in Pandas dataframe to ease their manipulation."
   ]
  },
  {
   "cell_type": "code",
   "execution_count": 49,
   "metadata": {},
   "outputs": [],
   "source": [
    "df_nodes_pathways = pd.read_excel(\n",
    "    io=f\"{PATH_REPORT}/{f_nodes_pathways}\",\n",
    "    header=None,\n",
    "    names=[\"node\", \"pathway\"]\n",
    ")\n",
    "df_nodes_interactions = pd.read_excel(\n",
    "    io=f\"{PATH_REPORT}/{f_nodes_network}\",\n",
    "    sheet_name=\"Nodes\",\n",
    "    header=1\n",
    ")\n",
    "df_nodes_unique = pd.read_excel(\n",
    "    io=f\"{PATH_REPORT}/{f_nodes_network}\",\n",
    "    sheet_name=\"Nodes_unique\"\n",
    ")"
   ]
  },
  {
   "cell_type": "code",
   "execution_count": 53,
   "metadata": {},
   "outputs": [
    {
     "name": "stdout",
     "output_type": "stream",
     "text": [
      "<class 'pandas.core.frame.DataFrame'>\n",
      "RangeIndex: 133 entries, 0 to 132\n",
      "Data columns (total 2 columns):\n",
      " #   Column   Non-Null Count  Dtype \n",
      "---  ------   --------------  ----- \n",
      " 0   node     133 non-null    object\n",
      " 1   pathway  133 non-null    object\n",
      "dtypes: object(2)\n",
      "memory usage: 2.2+ KB\n",
      "None\n"
     ]
    }
   ],
   "source": [
    "# MC info.\n",
    "print(df_nodes_pathways.info())"
   ]
  },
  {
   "cell_type": "code",
   "execution_count": 51,
   "metadata": {},
   "outputs": [
    {
     "name": "stdout",
     "output_type": "stream",
     "text": [
      "<class 'pandas.core.frame.DataFrame'>\n",
      "RangeIndex: 462 entries, 0 to 461\n",
      "Data columns (total 7 columns):\n",
      " #   Column            Non-Null Count  Dtype \n",
      "---  ------            --------------  ----- \n",
      " 0   Target node       462 non-null    object\n",
      " 1   HUGO names        454 non-null    object\n",
      " 2   Interaction type  462 non-null    object\n",
      " 3   Source            462 non-null    object\n",
      " 4   Description       462 non-null    object\n",
      " 5   Reference: PMID   453 non-null    object\n",
      " 6   Logical rule      462 non-null    object\n",
      "dtypes: object(7)\n",
      "memory usage: 25.4+ KB\n",
      "None\n"
     ]
    }
   ],
   "source": [
    "# MC info.\n",
    "print(df_nodes_interactions.info())"
   ]
  },
  {
   "cell_type": "code",
   "execution_count": 59,
   "metadata": {
    "tags": [
     "remove-cell"
    ]
   },
   "outputs": [
    {
     "data": {
      "text/html": [
       "<div>\n",
       "<style scoped>\n",
       "    .dataframe tbody tr th:only-of-type {\n",
       "        vertical-align: middle;\n",
       "    }\n",
       "\n",
       "    .dataframe tbody tr th {\n",
       "        vertical-align: top;\n",
       "    }\n",
       "\n",
       "    .dataframe thead th {\n",
       "        text-align: right;\n",
       "    }\n",
       "</style>\n",
       "<table border=\"1\" class=\"dataframe\">\n",
       "  <thead>\n",
       "    <tr style=\"text-align: right;\">\n",
       "      <th></th>\n",
       "      <th></th>\n",
       "      <th>HUGO names</th>\n",
       "      <th>Interaction type</th>\n",
       "      <th>Source</th>\n",
       "      <th>Description</th>\n",
       "      <th>Reference: PMID</th>\n",
       "    </tr>\n",
       "    <tr>\n",
       "      <th>Target node</th>\n",
       "      <th>Logical rule</th>\n",
       "      <th></th>\n",
       "      <th></th>\n",
       "      <th></th>\n",
       "      <th></th>\n",
       "      <th></th>\n",
       "    </tr>\n",
       "  </thead>\n",
       "  <tbody>\n",
       "    <tr>\n",
       "      <th>AKT</th>\n",
       "      <th>((HSPs | (PDK1 &amp; PIP3) | PIP3 | (SHH &amp; PIP3)) &amp; !PTCH1)</th>\n",
       "      <td>5</td>\n",
       "      <td>5</td>\n",
       "      <td>5</td>\n",
       "      <td>5</td>\n",
       "      <td>5</td>\n",
       "    </tr>\n",
       "    <tr>\n",
       "      <th>AMPK</th>\n",
       "      <th>(ATR | HIF1 | AMP_ATP | ATM) &amp; !FGFR3</th>\n",
       "      <td>6</td>\n",
       "      <td>6</td>\n",
       "      <td>6</td>\n",
       "      <td>6</td>\n",
       "      <td>6</td>\n",
       "    </tr>\n",
       "    <tr>\n",
       "      <th>AMP_ATP</th>\n",
       "      <th>(!Nutrients)</th>\n",
       "      <td>1</td>\n",
       "      <td>1</td>\n",
       "      <td>1</td>\n",
       "      <td>1</td>\n",
       "      <td>1</td>\n",
       "    </tr>\n",
       "    <tr>\n",
       "      <th>APAF1</th>\n",
       "      <th>((Caspase8 | BAX | p53 | Bak | HSPs) &amp; !Bcl_XL &amp; !BCL2 &amp; !AKT)</th>\n",
       "      <td>8</td>\n",
       "      <td>8</td>\n",
       "      <td>8</td>\n",
       "      <td>8</td>\n",
       "      <td>8</td>\n",
       "    </tr>\n",
       "    <tr>\n",
       "      <th>AR</th>\n",
       "      <th>((GLI | EP300 | HSPs | NKX3_1 | EZH2 | NCOA3 | PKC | SMAD | Androgen) &amp; !PTEN &amp; !NCOR1 &amp; !NCOR2 &amp; !MDM2)</th>\n",
       "      <td>13</td>\n",
       "      <td>13</td>\n",
       "      <td>13</td>\n",
       "      <td>13</td>\n",
       "      <td>13</td>\n",
       "    </tr>\n",
       "    <tr>\n",
       "      <th>...</th>\n",
       "      <th>...</th>\n",
       "      <td>...</td>\n",
       "      <td>...</td>\n",
       "      <td>...</td>\n",
       "      <td>...</td>\n",
       "      <td>...</td>\n",
       "    </tr>\n",
       "    <tr>\n",
       "      <th>p21</th>\n",
       "      <th>((p53 | SMAD | HIF1 | ZBTB17) &amp; !TERT &amp; !MYC_MAX &amp; !MDM2 &amp; !AKT &amp; !ERK)</th>\n",
       "      <td>9</td>\n",
       "      <td>9</td>\n",
       "      <td>9</td>\n",
       "      <td>9</td>\n",
       "      <td>9</td>\n",
       "    </tr>\n",
       "    <tr>\n",
       "      <th>p38</th>\n",
       "      <th>(MAP3K1_3 &amp; !ERK &amp; !GADD45)</th>\n",
       "      <td>3</td>\n",
       "      <td>3</td>\n",
       "      <td>3</td>\n",
       "      <td>3</td>\n",
       "      <td>3</td>\n",
       "    </tr>\n",
       "    <tr>\n",
       "      <th>p53</th>\n",
       "      <th>((Acidosis | CHK1_2 | p38 | HIF1) &amp; !BCL2 &amp; !MDM2 &amp; !HSPs &amp; !Snail)</th>\n",
       "      <td>9</td>\n",
       "      <td>9</td>\n",
       "      <td>9</td>\n",
       "      <td>9</td>\n",
       "      <td>9</td>\n",
       "    </tr>\n",
       "    <tr>\n",
       "      <th>p70S6kab</th>\n",
       "      <th>(mTORC2 | PDK1)</th>\n",
       "      <td>2</td>\n",
       "      <td>2</td>\n",
       "      <td>2</td>\n",
       "      <td>2</td>\n",
       "      <td>2</td>\n",
       "    </tr>\n",
       "    <tr>\n",
       "      <th>p90RSK</th>\n",
       "      <th>(PDK1 | ERK)</th>\n",
       "      <td>2</td>\n",
       "      <td>2</td>\n",
       "      <td>2</td>\n",
       "      <td>2</td>\n",
       "      <td>2</td>\n",
       "    </tr>\n",
       "  </tbody>\n",
       "</table>\n",
       "<p>133 rows × 5 columns</p>\n",
       "</div>"
      ],
      "text/plain": [
       "                                                                HUGO names  \\\n",
       "Target node Logical rule                                                     \n",
       "AKT         ((HSPs | (PDK1 & PIP3) | PIP3 | (SHH & PIP3)) &...           5   \n",
       "AMPK        (ATR | HIF1 | AMP_ATP | ATM) & !FGFR3                        6   \n",
       "AMP_ATP     (!Nutrients)                                                 1   \n",
       "APAF1       ((Caspase8 | BAX | p53 | Bak | HSPs) & !Bcl_XL ...           8   \n",
       "AR          ((GLI | EP300 | HSPs | NKX3_1 | EZH2 | NCOA3 | ...          13   \n",
       "...                                                                    ...   \n",
       "p21         ((p53 | SMAD | HIF1 | ZBTB17) & !TERT & !MYC_MA...           9   \n",
       "p38         (MAP3K1_3 & !ERK & !GADD45)                                  3   \n",
       "p53         ((Acidosis | CHK1_2 | p38 | HIF1) & !BCL2 & !MD...           9   \n",
       "p70S6kab    (mTORC2 | PDK1)                                              2   \n",
       "p90RSK      (PDK1 | ERK)                                                 2   \n",
       "\n",
       "                                                                Interaction type  \\\n",
       "Target node Logical rule                                                           \n",
       "AKT         ((HSPs | (PDK1 & PIP3) | PIP3 | (SHH & PIP3)) &...                 5   \n",
       "AMPK        (ATR | HIF1 | AMP_ATP | ATM) & !FGFR3                              6   \n",
       "AMP_ATP     (!Nutrients)                                                       1   \n",
       "APAF1       ((Caspase8 | BAX | p53 | Bak | HSPs) & !Bcl_XL ...                 8   \n",
       "AR          ((GLI | EP300 | HSPs | NKX3_1 | EZH2 | NCOA3 | ...                13   \n",
       "...                                                                          ...   \n",
       "p21         ((p53 | SMAD | HIF1 | ZBTB17) & !TERT & !MYC_MA...                 9   \n",
       "p38         (MAP3K1_3 & !ERK & !GADD45)                                        3   \n",
       "p53         ((Acidosis | CHK1_2 | p38 | HIF1) & !BCL2 & !MD...                 9   \n",
       "p70S6kab    (mTORC2 | PDK1)                                                    2   \n",
       "p90RSK      (PDK1 | ERK)                                                       2   \n",
       "\n",
       "                                                                Source  \\\n",
       "Target node Logical rule                                                 \n",
       "AKT         ((HSPs | (PDK1 & PIP3) | PIP3 | (SHH & PIP3)) &...       5   \n",
       "AMPK        (ATR | HIF1 | AMP_ATP | ATM) & !FGFR3                    6   \n",
       "AMP_ATP     (!Nutrients)                                             1   \n",
       "APAF1       ((Caspase8 | BAX | p53 | Bak | HSPs) & !Bcl_XL ...       8   \n",
       "AR          ((GLI | EP300 | HSPs | NKX3_1 | EZH2 | NCOA3 | ...      13   \n",
       "...                                                                ...   \n",
       "p21         ((p53 | SMAD | HIF1 | ZBTB17) & !TERT & !MYC_MA...       9   \n",
       "p38         (MAP3K1_3 & !ERK & !GADD45)                              3   \n",
       "p53         ((Acidosis | CHK1_2 | p38 | HIF1) & !BCL2 & !MD...       9   \n",
       "p70S6kab    (mTORC2 | PDK1)                                          2   \n",
       "p90RSK      (PDK1 | ERK)                                             2   \n",
       "\n",
       "                                                                Description  \\\n",
       "Target node Logical rule                                                      \n",
       "AKT         ((HSPs | (PDK1 & PIP3) | PIP3 | (SHH & PIP3)) &...            5   \n",
       "AMPK        (ATR | HIF1 | AMP_ATP | ATM) & !FGFR3                         6   \n",
       "AMP_ATP     (!Nutrients)                                                  1   \n",
       "APAF1       ((Caspase8 | BAX | p53 | Bak | HSPs) & !Bcl_XL ...            8   \n",
       "AR          ((GLI | EP300 | HSPs | NKX3_1 | EZH2 | NCOA3 | ...           13   \n",
       "...                                                                     ...   \n",
       "p21         ((p53 | SMAD | HIF1 | ZBTB17) & !TERT & !MYC_MA...            9   \n",
       "p38         (MAP3K1_3 & !ERK & !GADD45)                                   3   \n",
       "p53         ((Acidosis | CHK1_2 | p38 | HIF1) & !BCL2 & !MD...            9   \n",
       "p70S6kab    (mTORC2 | PDK1)                                               2   \n",
       "p90RSK      (PDK1 | ERK)                                                  2   \n",
       "\n",
       "                                                                Reference: PMID  \n",
       "Target node Logical rule                                                         \n",
       "AKT         ((HSPs | (PDK1 & PIP3) | PIP3 | (SHH & PIP3)) &...                5  \n",
       "AMPK        (ATR | HIF1 | AMP_ATP | ATM) & !FGFR3                             6  \n",
       "AMP_ATP     (!Nutrients)                                                      1  \n",
       "APAF1       ((Caspase8 | BAX | p53 | Bak | HSPs) & !Bcl_XL ...                8  \n",
       "AR          ((GLI | EP300 | HSPs | NKX3_1 | EZH2 | NCOA3 | ...               13  \n",
       "...                                                                         ...  \n",
       "p21         ((p53 | SMAD | HIF1 | ZBTB17) & !TERT & !MYC_MA...                9  \n",
       "p38         (MAP3K1_3 & !ERK & !GADD45)                                       3  \n",
       "p53         ((Acidosis | CHK1_2 | p38 | HIF1) & !BCL2 & !MD...                9  \n",
       "p70S6kab    (mTORC2 | PDK1)                                                   2  \n",
       "p90RSK      (PDK1 | ERK)                                                      2  \n",
       "\n",
       "[133 rows x 5 columns]"
      ]
     },
     "execution_count": 59,
     "metadata": {},
     "output_type": "execute_result"
    }
   ],
   "source": [
    "# One single logical rule is associated to each node, in fact the result of grouping by node and rule is a list of exactly 133 rows.\n",
    "df_nodes_interactions.groupby([\"Target node\", \"Logical rule\"]).count()"
   ]
  },
  {
   "cell_type": "code",
   "execution_count": 61,
   "metadata": {
    "scrolled": true
   },
   "outputs": [
    {
     "name": "stdout",
     "output_type": "stream",
     "text": [
      "<class 'pandas.core.frame.DataFrame'>\n",
      "RangeIndex: 121 entries, 0 to 120\n",
      "Data columns (total 4 columns):\n",
      " #   Column        Non-Null Count  Dtype \n",
      "---  ------        --------------  ----- \n",
      " 0   Node          121 non-null    object\n",
      " 1   HGNC symbols  121 non-null    object\n",
      " 2   unique        121 non-null    object\n",
      " 3   comments      39 non-null     object\n",
      "dtypes: object(4)\n",
      "memory usage: 3.9+ KB\n",
      "None\n"
     ]
    }
   ],
   "source": [
    "# MC info.\n",
    "print(df_nodes_unique.info())"
   ]
  },
  {
   "cell_type": "code",
   "execution_count": null,
   "metadata": {},
   "outputs": [],
   "source": [
    "# MC why df_nodes_unique contains only 121 nodes and not 133?\n",
    "# MC removing input (11 nodes) and output (6 nodes) it should be 133 - 11 - 6 = 116.\n",
    "# MC probably only inputs are removed, but it is not good anyway because 133 - 11 = 122, where is the one node I am not removing?"
   ]
  },
  {
   "cell_type": "markdown",
   "metadata": {},
   "source": [
    "Data about nodes are then exported in files with tab-separated values (TSV) format, to import them in Cytoscape."
   ]
  },
  {
   "cell_type": "code",
   "execution_count": null,
   "metadata": {},
   "outputs": [],
   "source": [
    "# MC useful for export.\n",
    "f_nodes_pathways.removesuffix(f\".{EXT_EXCEL}\")\n",
    "# MC see also https://pandas.pydata.org/docs/reference/api/pandas.DataFrame.to_csv.html"
   ]
  }
 ],
 "metadata": {
  "celltoolbar": "Tags",
  "kernelspec": {
   "display_name": "Python 3 (ipykernel)",
   "language": "python",
   "name": "python3"
  },
  "language_info": {
   "codemirror_mode": {
    "name": "ipython",
    "version": 3
   },
   "file_extension": ".py",
   "mimetype": "text/x-python",
   "name": "python",
   "nbconvert_exporter": "python",
   "pygments_lexer": "ipython3",
   "version": "3.9.16"
  }
 },
 "nbformat": 4,
 "nbformat_minor": 2
}
