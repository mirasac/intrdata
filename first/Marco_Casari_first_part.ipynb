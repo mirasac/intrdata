{
 "cells": [
  {
   "cell_type": "code",
   "execution_count": 1,
   "metadata": {},
   "outputs": [
    {
     "name": "stdout",
     "output_type": "stream",
     "text": [
      "Montagud2022_Prostate_Cancer.bnd\n",
      "Montagud2022_Prostate_Cancer.cfg\n",
      "Montagud2022_Prostate_Cancer.zginml\n",
      "Montagud2022_interactions_sources.xlsx\n",
      "Montagud2022_nodes in pathways.xlsx\n",
      "elife-72626-v2.pdf\n",
      "supplementary_files\n"
     ]
    }
   ],
   "source": [
    "%%sh\n",
    "# MC delete this cell at the end, as it is just for interfacing with the underlying linux environment.\n",
    "ls report/"
   ]
  },
  {
   "cell_type": "markdown",
   "metadata": {},
   "source": [
    "# Introduction to data analysis for natural and social sciences\n",
    "This notebook contitutes the first part of the exam.\n",
    "\n",
    "Here the steps of article \"Patient-specific Boolean models of signalling networks guide personalised treatments\" are retraced and the results reproduced."
   ]
  },
  {
   "cell_type": "markdown",
   "metadata": {},
   "source": [
    "## Imports and global settings"
   ]
  },
  {
   "cell_type": "code",
   "execution_count": 5,
   "metadata": {},
   "outputs": [],
   "source": [
    "import pandas as pd"
   ]
  },
  {
   "cell_type": "code",
   "execution_count": 6,
   "metadata": {},
   "outputs": [],
   "source": [
    "PATH_REPORT = \"report\""
   ]
  },
  {
   "cell_type": "markdown",
   "metadata": {},
   "source": [
    "# Prostate Boolean model construction\n",
    "The Boolean model is constructed starting from information available in literature. Then further pathways are identified by the use of software ROMA and pypath and they are added to the existing network.\n",
    "\n",
    "The authors collected all the information on the network such as nodes, their role, logical rules etc. in Excel files."
   ]
  },
  {
   "cell_type": "code",
   "execution_count": 7,
   "metadata": {},
   "outputs": [],
   "source": [
    "f_nodes_pathways = \"Montagud2022_nodes in pathways.xlsx\"\n",
    "f_nodes_interactions = \"Montagud2022_interactions_sources.xlsx\"\n",
    "f_nodes_unique = \"Montagud2022_interactions_sources.xlsx\""
   ]
  },
  {
   "cell_type": "markdown",
   "metadata": {},
   "source": [
    "Data are loaded in Pandas dataframe to ease their manipulation."
   ]
  },
  {
   "cell_type": "code",
   "execution_count": 36,
   "metadata": {},
   "outputs": [],
   "source": [
    "df_nodes_pathways = pd.read_excel(\n",
    "    io=f\"{PATH_REPORT}/{f_nodes_pathways}\",\n",
    "    header=None,\n",
    "    names=[\"node\", \"pathway\"]\n",
    ")\n",
    "df_nodes_interactions = pd.read_excel(\n",
    "    io=f\"{PATH_REPORT}/{f_nodes_interactions}\",\n",
    "    sheet_name=\"Nodes\",\n",
    "    header=1\n",
    ")\n",
    "df_nodes_unique = pd.read_excel(\n",
    "    io=f\"{PATH_REPORT}/{f_nodes_unique}\",\n",
    "    sheet_name=\"Nodes_unique\"\n",
    ")"
   ]
  },
  {
   "cell_type": "code",
   "execution_count": null,
   "metadata": {},
   "outputs": [],
   "source": []
  }
 ],
 "metadata": {
  "kernelspec": {
   "display_name": "Python 3 (ipykernel)",
   "language": "python",
   "name": "python3"
  },
  "language_info": {
   "codemirror_mode": {
    "name": "ipython",
    "version": 3
   },
   "file_extension": ".py",
   "mimetype": "text/x-python",
   "name": "python",
   "nbconvert_exporter": "python",
   "pygments_lexer": "ipython3",
   "version": "3.9.16"
  }
 },
 "nbformat": 4,
 "nbformat_minor": 2
}
