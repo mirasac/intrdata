{
 "cells": [
  {
   "cell_type": "markdown",
   "metadata": {},
   "source": [
    "# Introduction to data analysis for natural and social sciences\n",
    "This notebook contitutes the first part of the exam.\n",
    "\n",
    "Here the steps of article \"Patient-specific Boolean models of signalling networks guide personalised treatments\" are retraced and the results reproduced."
   ]
  },
  {
   "cell_type": "markdown",
   "metadata": {},
   "source": [
    "## Imports and global settings"
   ]
  },
  {
   "cell_type": "code",
   "execution_count": 32,
   "metadata": {},
   "outputs": [],
   "source": [
    "import biolqm\n",
    "import ginsim\n",
    "import numpy as np\n",
    "import pandas as pd"
   ]
  },
  {
   "cell_type": "code",
   "execution_count": 33,
   "metadata": {},
   "outputs": [],
   "source": [
    "PATH_FILES = \"report\"\n",
    "\n",
    "EXT_EXCEL = \"xlsx\"\n",
    "EXT_TAB = \"tsv\""
   ]
  },
  {
   "cell_type": "markdown",
   "metadata": {},
   "source": [
    "# Prostate Boolean model construction\n",
    "The Boolean model is constructed starting from information available in literature. Then further pathways are identified by the use of software ROMA and pypath and they are added to the existing network.\n",
    "\n",
    "## Boolean model construction\n",
    "The authors collected all data regarding the network, such as nodes, their role, logical rules, in the two following Excel files:"
   ]
  },
  {
   "cell_type": "code",
   "execution_count": 34,
   "metadata": {},
   "outputs": [],
   "source": [
    "fname_nodes_pathways = \"Montagud2022_nodes in pathways.xlsx\"\n",
    "fname_nodes_network = \"Montagud2022_interactions_sources.xlsx\""
   ]
  },
  {
   "cell_type": "markdown",
   "metadata": {},
   "source": [
    "Data are loaded in Pandas dataframe to ease their manipulation."
   ]
  },
  {
   "cell_type": "code",
   "execution_count": 35,
   "metadata": {},
   "outputs": [],
   "source": [
    "df_nodes_pathways = pd.read_excel(\n",
    "    io=f\"{PATH_FILES}/{fname_nodes_pathways}\",\n",
    "    header=None,\n",
    "    names=[\"node\", \"pathway\"]\n",
    ")\n",
    "sheet_interactions = \"Nodes\"\n",
    "df_nodes_interactions = pd.read_excel(\n",
    "    io=f\"{PATH_FILES}/{fname_nodes_network}\",\n",
    "    sheet_name=sheet_interactions,\n",
    "    header=1,\n",
    "    converters={\"Reference: PMID\": lambda c: np.str_(c).strip()}  # Remove a useless line break in a cell.\n",
    ")\n",
    "sheet_unique=\"Nodes_unique\"\n",
    "df_nodes_unique = pd.read_excel(\n",
    "    io=f\"{PATH_FILES}/{fname_nodes_network}\",\n",
    "    sheet_name=sheet_unique\n",
    ")"
   ]
  },
  {
   "cell_type": "code",
   "execution_count": 36,
   "metadata": {
    "tags": [
     "remove-cell"
    ]
   },
   "outputs": [
    {
     "data": {
      "text/html": [
       "<div>\n",
       "<style scoped>\n",
       "    .dataframe tbody tr th:only-of-type {\n",
       "        vertical-align: middle;\n",
       "    }\n",
       "\n",
       "    .dataframe tbody tr th {\n",
       "        vertical-align: top;\n",
       "    }\n",
       "\n",
       "    .dataframe thead th {\n",
       "        text-align: right;\n",
       "    }\n",
       "</style>\n",
       "<table border=\"1\" class=\"dataframe\">\n",
       "  <thead>\n",
       "    <tr style=\"text-align: right;\">\n",
       "      <th></th>\n",
       "      <th></th>\n",
       "      <th>HUGO names</th>\n",
       "      <th>Interaction type</th>\n",
       "      <th>Source</th>\n",
       "      <th>Description</th>\n",
       "      <th>Reference: PMID</th>\n",
       "    </tr>\n",
       "    <tr>\n",
       "      <th>Target node</th>\n",
       "      <th>Logical rule</th>\n",
       "      <th></th>\n",
       "      <th></th>\n",
       "      <th></th>\n",
       "      <th></th>\n",
       "      <th></th>\n",
       "    </tr>\n",
       "  </thead>\n",
       "  <tbody>\n",
       "    <tr>\n",
       "      <th>AKT</th>\n",
       "      <th>((HSPs | (PDK1 &amp; PIP3) | PIP3 | (SHH &amp; PIP3)) &amp; !PTCH1)</th>\n",
       "      <td>5</td>\n",
       "      <td>5</td>\n",
       "      <td>5</td>\n",
       "      <td>5</td>\n",
       "      <td>5</td>\n",
       "    </tr>\n",
       "    <tr>\n",
       "      <th>AMPK</th>\n",
       "      <th>(ATR | HIF1 | AMP_ATP | ATM) &amp; !FGFR3</th>\n",
       "      <td>6</td>\n",
       "      <td>6</td>\n",
       "      <td>6</td>\n",
       "      <td>6</td>\n",
       "      <td>6</td>\n",
       "    </tr>\n",
       "    <tr>\n",
       "      <th>AMP_ATP</th>\n",
       "      <th>(!Nutrients)</th>\n",
       "      <td>1</td>\n",
       "      <td>1</td>\n",
       "      <td>1</td>\n",
       "      <td>1</td>\n",
       "      <td>1</td>\n",
       "    </tr>\n",
       "    <tr>\n",
       "      <th>APAF1</th>\n",
       "      <th>((Caspase8 | BAX | p53 | Bak | HSPs) &amp; !Bcl_XL &amp; !BCL2 &amp; !AKT)</th>\n",
       "      <td>8</td>\n",
       "      <td>8</td>\n",
       "      <td>8</td>\n",
       "      <td>8</td>\n",
       "      <td>8</td>\n",
       "    </tr>\n",
       "    <tr>\n",
       "      <th>AR</th>\n",
       "      <th>((GLI | EP300 | HSPs | NKX3_1 | EZH2 | NCOA3 | PKC | SMAD | Androgen) &amp; !PTEN &amp; !NCOR1 &amp; !NCOR2 &amp; !MDM2)</th>\n",
       "      <td>13</td>\n",
       "      <td>13</td>\n",
       "      <td>13</td>\n",
       "      <td>13</td>\n",
       "      <td>13</td>\n",
       "    </tr>\n",
       "    <tr>\n",
       "      <th>...</th>\n",
       "      <th>...</th>\n",
       "      <td>...</td>\n",
       "      <td>...</td>\n",
       "      <td>...</td>\n",
       "      <td>...</td>\n",
       "      <td>...</td>\n",
       "    </tr>\n",
       "    <tr>\n",
       "      <th>p21</th>\n",
       "      <th>((p53 | SMAD | HIF1 | ZBTB17) &amp; !TERT &amp; !MYC_MAX &amp; !MDM2 &amp; !AKT &amp; !ERK)</th>\n",
       "      <td>9</td>\n",
       "      <td>9</td>\n",
       "      <td>9</td>\n",
       "      <td>9</td>\n",
       "      <td>9</td>\n",
       "    </tr>\n",
       "    <tr>\n",
       "      <th>p38</th>\n",
       "      <th>(MAP3K1_3 &amp; !ERK &amp; !GADD45)</th>\n",
       "      <td>3</td>\n",
       "      <td>3</td>\n",
       "      <td>3</td>\n",
       "      <td>3</td>\n",
       "      <td>3</td>\n",
       "    </tr>\n",
       "    <tr>\n",
       "      <th>p53</th>\n",
       "      <th>((Acidosis | CHK1_2 | p38 | HIF1) &amp; !BCL2 &amp; !MDM2 &amp; !HSPs &amp; !Snail)</th>\n",
       "      <td>9</td>\n",
       "      <td>9</td>\n",
       "      <td>9</td>\n",
       "      <td>9</td>\n",
       "      <td>9</td>\n",
       "    </tr>\n",
       "    <tr>\n",
       "      <th>p70S6kab</th>\n",
       "      <th>(mTORC2 | PDK1)</th>\n",
       "      <td>2</td>\n",
       "      <td>2</td>\n",
       "      <td>2</td>\n",
       "      <td>2</td>\n",
       "      <td>2</td>\n",
       "    </tr>\n",
       "    <tr>\n",
       "      <th>p90RSK</th>\n",
       "      <th>(PDK1 | ERK)</th>\n",
       "      <td>2</td>\n",
       "      <td>2</td>\n",
       "      <td>2</td>\n",
       "      <td>2</td>\n",
       "      <td>2</td>\n",
       "    </tr>\n",
       "  </tbody>\n",
       "</table>\n",
       "<p>133 rows × 5 columns</p>\n",
       "</div>"
      ],
      "text/plain": [
       "                                                                HUGO names  \\\n",
       "Target node Logical rule                                                     \n",
       "AKT         ((HSPs | (PDK1 & PIP3) | PIP3 | (SHH & PIP3)) &...           5   \n",
       "AMPK        (ATR | HIF1 | AMP_ATP | ATM) & !FGFR3                        6   \n",
       "AMP_ATP     (!Nutrients)                                                 1   \n",
       "APAF1       ((Caspase8 | BAX | p53 | Bak | HSPs) & !Bcl_XL ...           8   \n",
       "AR          ((GLI | EP300 | HSPs | NKX3_1 | EZH2 | NCOA3 | ...          13   \n",
       "...                                                                    ...   \n",
       "p21         ((p53 | SMAD | HIF1 | ZBTB17) & !TERT & !MYC_MA...           9   \n",
       "p38         (MAP3K1_3 & !ERK & !GADD45)                                  3   \n",
       "p53         ((Acidosis | CHK1_2 | p38 | HIF1) & !BCL2 & !MD...           9   \n",
       "p70S6kab    (mTORC2 | PDK1)                                              2   \n",
       "p90RSK      (PDK1 | ERK)                                                 2   \n",
       "\n",
       "                                                                Interaction type  \\\n",
       "Target node Logical rule                                                           \n",
       "AKT         ((HSPs | (PDK1 & PIP3) | PIP3 | (SHH & PIP3)) &...                 5   \n",
       "AMPK        (ATR | HIF1 | AMP_ATP | ATM) & !FGFR3                              6   \n",
       "AMP_ATP     (!Nutrients)                                                       1   \n",
       "APAF1       ((Caspase8 | BAX | p53 | Bak | HSPs) & !Bcl_XL ...                 8   \n",
       "AR          ((GLI | EP300 | HSPs | NKX3_1 | EZH2 | NCOA3 | ...                13   \n",
       "...                                                                          ...   \n",
       "p21         ((p53 | SMAD | HIF1 | ZBTB17) & !TERT & !MYC_MA...                 9   \n",
       "p38         (MAP3K1_3 & !ERK & !GADD45)                                        3   \n",
       "p53         ((Acidosis | CHK1_2 | p38 | HIF1) & !BCL2 & !MD...                 9   \n",
       "p70S6kab    (mTORC2 | PDK1)                                                    2   \n",
       "p90RSK      (PDK1 | ERK)                                                       2   \n",
       "\n",
       "                                                                Source  \\\n",
       "Target node Logical rule                                                 \n",
       "AKT         ((HSPs | (PDK1 & PIP3) | PIP3 | (SHH & PIP3)) &...       5   \n",
       "AMPK        (ATR | HIF1 | AMP_ATP | ATM) & !FGFR3                    6   \n",
       "AMP_ATP     (!Nutrients)                                             1   \n",
       "APAF1       ((Caspase8 | BAX | p53 | Bak | HSPs) & !Bcl_XL ...       8   \n",
       "AR          ((GLI | EP300 | HSPs | NKX3_1 | EZH2 | NCOA3 | ...      13   \n",
       "...                                                                ...   \n",
       "p21         ((p53 | SMAD | HIF1 | ZBTB17) & !TERT & !MYC_MA...       9   \n",
       "p38         (MAP3K1_3 & !ERK & !GADD45)                              3   \n",
       "p53         ((Acidosis | CHK1_2 | p38 | HIF1) & !BCL2 & !MD...       9   \n",
       "p70S6kab    (mTORC2 | PDK1)                                          2   \n",
       "p90RSK      (PDK1 | ERK)                                             2   \n",
       "\n",
       "                                                                Description  \\\n",
       "Target node Logical rule                                                      \n",
       "AKT         ((HSPs | (PDK1 & PIP3) | PIP3 | (SHH & PIP3)) &...            5   \n",
       "AMPK        (ATR | HIF1 | AMP_ATP | ATM) & !FGFR3                         6   \n",
       "AMP_ATP     (!Nutrients)                                                  1   \n",
       "APAF1       ((Caspase8 | BAX | p53 | Bak | HSPs) & !Bcl_XL ...            8   \n",
       "AR          ((GLI | EP300 | HSPs | NKX3_1 | EZH2 | NCOA3 | ...           13   \n",
       "...                                                                     ...   \n",
       "p21         ((p53 | SMAD | HIF1 | ZBTB17) & !TERT & !MYC_MA...            9   \n",
       "p38         (MAP3K1_3 & !ERK & !GADD45)                                   3   \n",
       "p53         ((Acidosis | CHK1_2 | p38 | HIF1) & !BCL2 & !MD...            9   \n",
       "p70S6kab    (mTORC2 | PDK1)                                               2   \n",
       "p90RSK      (PDK1 | ERK)                                                  2   \n",
       "\n",
       "                                                                Reference: PMID  \n",
       "Target node Logical rule                                                         \n",
       "AKT         ((HSPs | (PDK1 & PIP3) | PIP3 | (SHH & PIP3)) &...                5  \n",
       "AMPK        (ATR | HIF1 | AMP_ATP | ATM) & !FGFR3                             6  \n",
       "AMP_ATP     (!Nutrients)                                                      1  \n",
       "APAF1       ((Caspase8 | BAX | p53 | Bak | HSPs) & !Bcl_XL ...                8  \n",
       "AR          ((GLI | EP300 | HSPs | NKX3_1 | EZH2 | NCOA3 | ...               13  \n",
       "...                                                                         ...  \n",
       "p21         ((p53 | SMAD | HIF1 | ZBTB17) & !TERT & !MYC_MA...                9  \n",
       "p38         (MAP3K1_3 & !ERK & !GADD45)                                       3  \n",
       "p53         ((Acidosis | CHK1_2 | p38 | HIF1) & !BCL2 & !MD...                9  \n",
       "p70S6kab    (mTORC2 | PDK1)                                                   2  \n",
       "p90RSK      (PDK1 | ERK)                                                      2  \n",
       "\n",
       "[133 rows x 5 columns]"
      ]
     },
     "metadata": {},
     "output_type": "display_data"
    }
   ],
   "source": [
    "# One single logical rule is associated to each node, indeed the result of grouping by node and rule is a list of exactly 133 rows.\n",
    "df_count = df_nodes_interactions.groupby([\"Target node\", \"Logical rule\"]).count()\n",
    "display(df_count)\n",
    "del df_count"
   ]
  },
  {
   "cell_type": "code",
   "execution_count": 37,
   "metadata": {
    "tags": [
     "remove-cell"
    ]
   },
   "outputs": [
    {
     "data": {
      "text/html": [
       "<div>\n",
       "<style scoped>\n",
       "    .dataframe tbody tr th:only-of-type {\n",
       "        vertical-align: middle;\n",
       "    }\n",
       "\n",
       "    .dataframe tbody tr th {\n",
       "        vertical-align: top;\n",
       "    }\n",
       "\n",
       "    .dataframe thead th {\n",
       "        text-align: right;\n",
       "    }\n",
       "</style>\n",
       "<table border=\"1\" class=\"dataframe\">\n",
       "  <thead>\n",
       "    <tr style=\"text-align: right;\">\n",
       "      <th></th>\n",
       "      <th>pathway</th>\n",
       "    </tr>\n",
       "    <tr>\n",
       "      <th>node</th>\n",
       "      <th></th>\n",
       "    </tr>\n",
       "  </thead>\n",
       "  <tbody>\n",
       "    <tr>\n",
       "      <th>Acidosis</th>\n",
       "      <td>Input</td>\n",
       "    </tr>\n",
       "    <tr>\n",
       "      <th>Androgen</th>\n",
       "      <td>Input</td>\n",
       "    </tr>\n",
       "    <tr>\n",
       "      <th>Carcinogen</th>\n",
       "      <td>Input</td>\n",
       "    </tr>\n",
       "    <tr>\n",
       "      <th>EGF</th>\n",
       "      <td>Input</td>\n",
       "    </tr>\n",
       "    <tr>\n",
       "      <th>FGF</th>\n",
       "      <td>Input</td>\n",
       "    </tr>\n",
       "    <tr>\n",
       "      <th>fused_event</th>\n",
       "      <td>Input</td>\n",
       "    </tr>\n",
       "    <tr>\n",
       "      <th>Hypoxia</th>\n",
       "      <td>Input</td>\n",
       "    </tr>\n",
       "    <tr>\n",
       "      <th>Nutrients</th>\n",
       "      <td>Input</td>\n",
       "    </tr>\n",
       "    <tr>\n",
       "      <th>SPOP</th>\n",
       "      <td>Input</td>\n",
       "    </tr>\n",
       "    <tr>\n",
       "      <th>TGFb</th>\n",
       "      <td>Input</td>\n",
       "    </tr>\n",
       "    <tr>\n",
       "      <th>TNFalpha</th>\n",
       "      <td>Input</td>\n",
       "    </tr>\n",
       "  </tbody>\n",
       "</table>\n",
       "</div>"
      ],
      "text/plain": [
       "            pathway\n",
       "node               \n",
       "Acidosis      Input\n",
       "Androgen      Input\n",
       "Carcinogen    Input\n",
       "EGF           Input\n",
       "FGF           Input\n",
       "fused_event   Input\n",
       "Hypoxia       Input\n",
       "Nutrients     Input\n",
       "SPOP          Input\n",
       "TGFb          Input\n",
       "TNFalpha      Input"
      ]
     },
     "metadata": {},
     "output_type": "display_data"
    },
    {
     "data": {
      "text/html": [
       "<div>\n",
       "<style scoped>\n",
       "    .dataframe tbody tr th:only-of-type {\n",
       "        vertical-align: middle;\n",
       "    }\n",
       "\n",
       "    .dataframe tbody tr th {\n",
       "        vertical-align: top;\n",
       "    }\n",
       "\n",
       "    .dataframe thead th {\n",
       "        text-align: right;\n",
       "    }\n",
       "</style>\n",
       "<table border=\"1\" class=\"dataframe\">\n",
       "  <thead>\n",
       "    <tr style=\"text-align: right;\">\n",
       "      <th></th>\n",
       "      <th>pathway</th>\n",
       "    </tr>\n",
       "    <tr>\n",
       "      <th>node</th>\n",
       "      <th></th>\n",
       "    </tr>\n",
       "  </thead>\n",
       "  <tbody>\n",
       "    <tr>\n",
       "      <th>Acidosis</th>\n",
       "      <td>Input</td>\n",
       "    </tr>\n",
       "    <tr>\n",
       "      <th>Androgen</th>\n",
       "      <td>Input</td>\n",
       "    </tr>\n",
       "    <tr>\n",
       "      <th>Apoptosis</th>\n",
       "      <td>Output</td>\n",
       "    </tr>\n",
       "    <tr>\n",
       "      <th>Carcinogen</th>\n",
       "      <td>Input</td>\n",
       "    </tr>\n",
       "    <tr>\n",
       "      <th>DNA_Damage</th>\n",
       "      <td>DNA repair pathw</td>\n",
       "    </tr>\n",
       "    <tr>\n",
       "      <th>DNA_Repair</th>\n",
       "      <td>Output</td>\n",
       "    </tr>\n",
       "    <tr>\n",
       "      <th>EMT</th>\n",
       "      <td>Invasion pathw</td>\n",
       "    </tr>\n",
       "    <tr>\n",
       "      <th>Hypoxia</th>\n",
       "      <td>Input</td>\n",
       "    </tr>\n",
       "    <tr>\n",
       "      <th>Invasion</th>\n",
       "      <td>Output</td>\n",
       "    </tr>\n",
       "    <tr>\n",
       "      <th>Metastasis</th>\n",
       "      <td>Output</td>\n",
       "    </tr>\n",
       "    <tr>\n",
       "      <th>Migration</th>\n",
       "      <td>Output</td>\n",
       "    </tr>\n",
       "    <tr>\n",
       "      <th>Nutrients</th>\n",
       "      <td>Input</td>\n",
       "    </tr>\n",
       "    <tr>\n",
       "      <th>Proliferation</th>\n",
       "      <td>Output</td>\n",
       "    </tr>\n",
       "  </tbody>\n",
       "</table>\n",
       "</div>"
      ],
      "text/plain": [
       "                        pathway\n",
       "node                           \n",
       "Acidosis                  Input\n",
       "Androgen                  Input\n",
       "Apoptosis                Output\n",
       "Carcinogen                Input\n",
       "DNA_Damage     DNA repair pathw\n",
       "DNA_Repair               Output\n",
       "EMT              Invasion pathw\n",
       "Hypoxia                   Input\n",
       "Invasion                 Output\n",
       "Metastasis               Output\n",
       "Migration                Output\n",
       "Nutrients                 Input\n",
       "Proliferation            Output"
      ]
     },
     "metadata": {},
     "output_type": "display_data"
    },
    {
     "name": "stdout",
     "output_type": "stream",
     "text": [
      "\"['MAX'] not found in axis\"\n"
     ]
    }
   ],
   "source": [
    "# df_nodes_unique contains only 121 nodes and not 133 as df_nodes_pathways.\n",
    "# In other words, df_nodes_unique[\"Node\"] should be a subset of df_nodes_pathways[\"node\"]. Why?\n",
    "df = df_nodes_pathways.set_index(\"node\")\n",
    "df_subset = df_nodes_unique.set_index(\"Node\")\n",
    "\n",
    "# The input nodes should be all removed, since they are not regulated by authors' choice,\n",
    "# hence they are not part of any pathway. But this is not what happens.\n",
    "display(df.loc[df[\"pathway\"] == \"Input\"])\n",
    "display(df.drop(labels=df_subset.index, errors=\"ignore\"))\n",
    "\n",
    "# Moreover, in df_nodes_unique there is a node called MAX which is not part of the nodes considered for the final network.\n",
    "# Surprisingly, it is not present among the nodes in df_nodes_interactions.\n",
    "try:\n",
    "    df.drop(labels=df_subset.index)\n",
    "except Exception as e:\n",
    "    print(e)\n",
    "finally:\n",
    "    del df\n",
    "    del df_subset\n",
    "\n",
    "# In conclusion, it seems that the choice of nodes from the Excel files can not be deduced directly\n",
    "# just from the observation of the content of the files.\n",
    "# In particular, I should use data in df_nodes_unique with caution,\n",
    "# since their relation with the other data is not straightforward."
   ]
  },
  {
   "cell_type": "markdown",
   "metadata": {},
   "source": [
    "Data about nodes are then exported in files with tab-separated values (TSV) format, to import them in Cytoscape in a later time."
   ]
  },
  {
   "cell_type": "code",
   "execution_count": 38,
   "metadata": {},
   "outputs": [],
   "source": [
    "name_nodes_pathways = fname_nodes_pathways.removesuffix(f\".{EXT_EXCEL}\")\n",
    "name_nodes_network = fname_nodes_network.removesuffix(f\".{EXT_EXCEL}\")\n",
    "\n",
    "df_nodes_pathways.to_csv(\n",
    "    path_or_buf=f\"{name_nodes_pathways}.{EXT_TAB}\",\n",
    "    sep='\\t',\n",
    "    index=False\n",
    ")\n",
    "df_nodes_interactions.to_csv(\n",
    "    path_or_buf=f\"{name_nodes_network}_{sheet_interactions}.{EXT_TAB}\",\n",
    "    sep='\\t',\n",
    "    index=False\n",
    ")\n",
    "df_nodes_unique.to_csv(\n",
    "    path_or_buf=f\"{name_nodes_network}_{sheet_unique}.{EXT_TAB}\",\n",
    "    sep='\\t',\n",
    "    index=False\n",
    ")"
   ]
  },
  {
   "cell_type": "markdown",
   "metadata": {},
   "source": [
    "To create the network, one single data file can be used, which contains data about interactions and pathways."
   ]
  },
  {
   "cell_type": "code",
   "execution_count": 39,
   "metadata": {},
   "outputs": [],
   "source": [
    "df_cytoscape = df_nodes_interactions.join(\n",
    "    other=df_nodes_pathways.set_index(\"node\"),\n",
    "    on=\"Target node\"\n",
    ")\n",
    "df_cytoscape.to_csv(\n",
    "    path_or_buf=f\"cytoscape_data.{EXT_TAB}\",\n",
    "    sep='\\t',\n",
    "    index=False\n",
    ")"
   ]
  },
  {
   "cell_type": "markdown",
   "metadata": {},
   "source": [
    "After having imported the file in Cytoscape, node \"0/1\" is hidden because it is generated by the software as source node for input nodes."
   ]
  },
  {
   "cell_type": "markdown",
   "metadata": {},
   "source": [
    "To build the regulatory network, GINsim is used by the authors. The resulting network is exported as ZGINML file, available in the Supplementary file 1, named"
   ]
  },
  {
   "cell_type": "code",
   "execution_count": 40,
   "metadata": {},
   "outputs": [],
   "source": [
    "fname_model = \"Montagud2022_Prostate_Cancer.zginml\""
   ]
  },
  {
   "cell_type": "markdown",
   "metadata": {},
   "source": [
    "The file is then imported in Cytoscape for visual improvement."
   ]
  },
  {
   "cell_type": "code",
   "execution_count": 41,
   "metadata": {
    "scrolled": true,
    "tags": [
     "remove-cell"
    ]
   },
   "outputs": [
    {
     "data": {
      "text/html": [
       "<div>\n",
       "<style scoped>\n",
       "    .dataframe tbody tr th:only-of-type {\n",
       "        vertical-align: middle;\n",
       "    }\n",
       "\n",
       "    .dataframe tbody tr th {\n",
       "        vertical-align: top;\n",
       "    }\n",
       "\n",
       "    .dataframe thead th {\n",
       "        text-align: right;\n",
       "    }\n",
       "</style>\n",
       "<table border=\"1\" class=\"dataframe\">\n",
       "  <thead>\n",
       "    <tr style=\"text-align: right;\">\n",
       "      <th></th>\n",
       "      <th>Target node</th>\n",
       "      <th>HUGO names</th>\n",
       "      <th>Interaction type</th>\n",
       "      <th>Source</th>\n",
       "      <th>Description</th>\n",
       "      <th>Reference: PMID</th>\n",
       "      <th>Logical rule</th>\n",
       "    </tr>\n",
       "  </thead>\n",
       "  <tbody>\n",
       "    <tr>\n",
       "      <th>197</th>\n",
       "      <td>fused_event</td>\n",
       "      <td>TMPRSS2</td>\n",
       "      <td>input</td>\n",
       "      <td>0/1</td>\n",
       "      <td>TMPRSS2-Ets gene fusions were identified in pr...</td>\n",
       "      <td>23264855, 20118910</td>\n",
       "      <td>(fused_event)</td>\n",
       "    </tr>\n",
       "    <tr>\n",
       "      <th>198</th>\n",
       "      <td>fused_event</td>\n",
       "      <td>SLC45A3</td>\n",
       "      <td>input</td>\n",
       "      <td>0/1</td>\n",
       "      <td>TMPRSS2 and SLC45A3 were the only 5' partner i...</td>\n",
       "      <td>20118910</td>\n",
       "      <td>(fused_event)</td>\n",
       "    </tr>\n",
       "    <tr>\n",
       "      <th>199</th>\n",
       "      <td>fused_event</td>\n",
       "      <td>NDRG1</td>\n",
       "      <td>input</td>\n",
       "      <td>0/1</td>\n",
       "      <td>ERG gene rearrangements and mechanism of rearr...</td>\n",
       "      <td>20118910</td>\n",
       "      <td>(fused_event)</td>\n",
       "    </tr>\n",
       "  </tbody>\n",
       "</table>\n",
       "</div>"
      ],
      "text/plain": [
       "     Target node HUGO names Interaction type Source  \\\n",
       "197  fused_event    TMPRSS2            input    0/1   \n",
       "198  fused_event    SLC45A3            input    0/1   \n",
       "199  fused_event      NDRG1            input    0/1   \n",
       "\n",
       "                                           Description     Reference: PMID  \\\n",
       "197  TMPRSS2-Ets gene fusions were identified in pr...  23264855, 20118910   \n",
       "198  TMPRSS2 and SLC45A3 were the only 5' partner i...            20118910   \n",
       "199  ERG gene rearrangements and mechanism of rearr...            20118910   \n",
       "\n",
       "      Logical rule  \n",
       "197  (fused_event)  \n",
       "198  (fused_event)  \n",
       "199  (fused_event)  "
      ]
     },
     "metadata": {},
     "output_type": "display_data"
    },
    {
     "data": {
      "text/html": [
       "<div>\n",
       "<style scoped>\n",
       "    .dataframe tbody tr th:only-of-type {\n",
       "        vertical-align: middle;\n",
       "    }\n",
       "\n",
       "    .dataframe tbody tr th {\n",
       "        vertical-align: top;\n",
       "    }\n",
       "\n",
       "    .dataframe thead th {\n",
       "        text-align: right;\n",
       "    }\n",
       "</style>\n",
       "<table border=\"1\" class=\"dataframe\">\n",
       "  <thead>\n",
       "    <tr style=\"text-align: right;\">\n",
       "      <th></th>\n",
       "      <th>Target node</th>\n",
       "      <th>HUGO names</th>\n",
       "      <th>Interaction type</th>\n",
       "      <th>Source</th>\n",
       "      <th>Description</th>\n",
       "      <th>Reference: PMID</th>\n",
       "      <th>Logical rule</th>\n",
       "    </tr>\n",
       "  </thead>\n",
       "  <tbody>\n",
       "    <tr>\n",
       "      <th>39</th>\n",
       "      <td>AR_ERG</td>\n",
       "      <td>ERG fused</td>\n",
       "      <td>+</td>\n",
       "      <td>fused_event</td>\n",
       "      <td>ERG can fuse with TMPRSS2 protein to form an o...</td>\n",
       "      <td>23264855</td>\n",
       "      <td>((AR &amp; fused_event) | (AR &amp; fused_event &amp; !NKX...</td>\n",
       "    </tr>\n",
       "  </tbody>\n",
       "</table>\n",
       "</div>"
      ],
      "text/plain": [
       "   Target node HUGO names Interaction type       Source  \\\n",
       "39      AR_ERG  ERG fused                +  fused_event   \n",
       "\n",
       "                                          Description Reference: PMID  \\\n",
       "39  ERG can fuse with TMPRSS2 protein to form an o...        23264855   \n",
       "\n",
       "                                         Logical rule  \n",
       "39  ((AR & fused_event) | (AR & fused_event & !NKX...  "
      ]
     },
     "metadata": {},
     "output_type": "display_data"
    },
    {
     "data": {
      "text/html": [
       "<div>\n",
       "<style scoped>\n",
       "    .dataframe tbody tr th:only-of-type {\n",
       "        vertical-align: middle;\n",
       "    }\n",
       "\n",
       "    .dataframe tbody tr th {\n",
       "        vertical-align: top;\n",
       "    }\n",
       "\n",
       "    .dataframe thead th {\n",
       "        text-align: right;\n",
       "    }\n",
       "</style>\n",
       "<table border=\"1\" class=\"dataframe\">\n",
       "  <thead>\n",
       "    <tr style=\"text-align: right;\">\n",
       "      <th></th>\n",
       "      <th>Target node</th>\n",
       "      <th>HUGO names</th>\n",
       "      <th>Interaction type</th>\n",
       "      <th>Source</th>\n",
       "      <th>Description</th>\n",
       "      <th>Reference: PMID</th>\n",
       "      <th>Logical rule</th>\n",
       "    </tr>\n",
       "  </thead>\n",
       "  <tbody>\n",
       "    <tr>\n",
       "      <th>420</th>\n",
       "      <td>SPOP</td>\n",
       "      <td>SPOP</td>\n",
       "      <td>input</td>\n",
       "      <td>0/1</td>\n",
       "      <td>Input of the model</td>\n",
       "      <td>NaN</td>\n",
       "      <td>(SPOP)</td>\n",
       "    </tr>\n",
       "  </tbody>\n",
       "</table>\n",
       "</div>"
      ],
      "text/plain": [
       "    Target node HUGO names Interaction type Source         Description  \\\n",
       "420        SPOP       SPOP            input    0/1  Input of the model   \n",
       "\n",
       "    Reference: PMID Logical rule  \n",
       "420             NaN       (SPOP)  "
      ]
     },
     "metadata": {},
     "output_type": "display_data"
    },
    {
     "data": {
      "text/html": [
       "<div>\n",
       "<style scoped>\n",
       "    .dataframe tbody tr th:only-of-type {\n",
       "        vertical-align: middle;\n",
       "    }\n",
       "\n",
       "    .dataframe tbody tr th {\n",
       "        vertical-align: top;\n",
       "    }\n",
       "\n",
       "    .dataframe thead th {\n",
       "        text-align: right;\n",
       "    }\n",
       "</style>\n",
       "<table border=\"1\" class=\"dataframe\">\n",
       "  <thead>\n",
       "    <tr style=\"text-align: right;\">\n",
       "      <th></th>\n",
       "      <th>Target node</th>\n",
       "      <th>HUGO names</th>\n",
       "      <th>Interaction type</th>\n",
       "      <th>Source</th>\n",
       "      <th>Description</th>\n",
       "      <th>Reference: PMID</th>\n",
       "      <th>Logical rule</th>\n",
       "    </tr>\n",
       "  </thead>\n",
       "  <tbody>\n",
       "    <tr>\n",
       "      <th>125</th>\n",
       "      <td>DAXX</td>\n",
       "      <td>DAXX</td>\n",
       "      <td>-</td>\n",
       "      <td>SPOP</td>\n",
       "      <td>Phosphorylation of Daxx by ATM upon DNA damage...</td>\n",
       "      <td>23405218</td>\n",
       "      <td>(!ATM &amp; !ATR &amp; !SPOP)</td>\n",
       "    </tr>\n",
       "    <tr>\n",
       "      <th>128</th>\n",
       "      <td>DNA_Damage</td>\n",
       "      <td>NaN</td>\n",
       "      <td>+</td>\n",
       "      <td>SPOP</td>\n",
       "      <td>From Fumia et al, 2013</td>\n",
       "      <td>23922675</td>\n",
       "      <td>((Carcinogen | (Carcinogen &amp; ROS)) &amp; !SPOP)</td>\n",
       "    </tr>\n",
       "    <tr>\n",
       "      <th>203</th>\n",
       "      <td>GLI</td>\n",
       "      <td>GLI1, GLI2</td>\n",
       "      <td>-</td>\n",
       "      <td>SPOP</td>\n",
       "      <td>Stabilization of speckle-type POZ protein (Spo...</td>\n",
       "      <td>24072710</td>\n",
       "      <td>((WNT | SMO) &amp; !SPOP)</td>\n",
       "    </tr>\n",
       "    <tr>\n",
       "      <th>312</th>\n",
       "      <td>NCOA3</td>\n",
       "      <td>NCOA3</td>\n",
       "      <td>-</td>\n",
       "      <td>SPOP</td>\n",
       "      <td>Mutations in SPOP represent the most common po...</td>\n",
       "      <td>24239470</td>\n",
       "      <td>(!SPOP &amp; p38)</td>\n",
       "    </tr>\n",
       "  </tbody>\n",
       "</table>\n",
       "</div>"
      ],
      "text/plain": [
       "    Target node  HUGO names Interaction type Source  \\\n",
       "125        DAXX        DAXX                -   SPOP   \n",
       "128  DNA_Damage         NaN                +   SPOP   \n",
       "203         GLI  GLI1, GLI2                -   SPOP   \n",
       "312       NCOA3       NCOA3                -   SPOP   \n",
       "\n",
       "                                           Description Reference: PMID  \\\n",
       "125  Phosphorylation of Daxx by ATM upon DNA damage...        23405218   \n",
       "128                             From Fumia et al, 2013        23922675   \n",
       "203  Stabilization of speckle-type POZ protein (Spo...        24072710   \n",
       "312  Mutations in SPOP represent the most common po...        24239470   \n",
       "\n",
       "                                    Logical rule  \n",
       "125                        (!ATM & !ATR & !SPOP)  \n",
       "128  ((Carcinogen | (Carcinogen & ROS)) & !SPOP)  \n",
       "203                        ((WNT | SMO) & !SPOP)  \n",
       "312                                (!SPOP & p38)  "
      ]
     },
     "metadata": {},
     "output_type": "display_data"
    }
   ],
   "source": [
    "# Only nine nodes are referred as proper inputs in the article (cfr. appendix 1.2.3). The remaining two are \"fused_event\" and \"SPOP\".\n",
    "\n",
    "# Node \"fused_event\" is present to consider the condition of fusion with gene ERG\n",
    "# and is added manually based on existing literature (cfr. appendix 1.1.5).\n",
    "display(df_nodes_interactions.loc[df_nodes_interactions[\"Target node\"] == \"fused_event\"])\n",
    "display(df_nodes_interactions.loc[df_nodes_interactions[\"Source\"] == \"fused_event\"])\n",
    "\n",
    "# Node \"SPOP\" is present to consider mutations of gene SPOP which are frequent in prostate cancer.\n",
    "display(df_nodes_interactions.loc[df_nodes_interactions[\"Target node\"] == \"SPOP\"])\n",
    "display(df_nodes_interactions.loc[df_nodes_interactions[\"Source\"] == \"SPOP\"])"
   ]
  },
  {
   "cell_type": "markdown",
   "metadata": {
    "tags": [
     "remove-cell"
    ]
   },
   "source": [
    "### Use cases for the GINsim model\n",
    "The GINsim model can be used directly for some tasks and all the information are contained in the ZGINML file."
   ]
  },
  {
   "cell_type": "code",
   "execution_count": 42,
   "metadata": {
    "tags": [
     "remove-cell"
    ]
   },
   "outputs": [],
   "source": [
    "ginsim_model = ginsim.load(f\"{PATH_FILES}/{fname_model}\")"
   ]
  },
  {
   "cell_type": "markdown",
   "metadata": {
    "tags": [
     "remove-cell"
    ]
   },
   "source": [
    "The network can be diplayed with"
   ]
  },
  {
   "cell_type": "code",
   "execution_count": 43,
   "metadata": {
    "scrolled": true,
    "tags": [
     "remove-cell"
    ]
   },
   "outputs": [
    {
     "data": {
      "text/html": [
       "<img class=\"unconfined\" width=\"100%\" src=\"data:image/svg+xml;base64,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\">"
      ],
      "text/plain": [
       "<IPython.core.display.HTML object>"
      ]
     },
     "execution_count": 43,
     "metadata": {},
     "output_type": "execute_result"
    }
   ],
   "source": [
    "ginsim.show(ginsim_model)"
   ]
  },
  {
   "cell_type": "markdown",
   "metadata": {
    "tags": [
     "remove-cell"
    ]
   },
   "source": [
    "and the stable states of the model can be evaluated. This task is performed by bioLQM:"
   ]
  },
  {
   "cell_type": "markdown",
   "metadata": {
    "tags": [
     "remove-cell"
    ]
   },
   "source": [
    "biolqm_model = ginsim.to_biolqm(ginsim_model)\n",
    "biolqm_fixpoints = biolqm.fixpoints(biolqm_model)"
   ]
  },
  {
   "cell_type": "markdown",
   "metadata": {},
   "source": [
    "# Prostate Boolean model simulation\n",
    "To perform simulations using the Boolean model, MaBoSS is used. First, configurations and information about the model are extracted from the GINsim model:"
   ]
  },
  {
   "cell_type": "code",
   "execution_count": 47,
   "metadata": {},
   "outputs": [],
   "source": [
    "maboss_model = ginsim.to_maboss(ginsim_model)"
   ]
  },
  {
   "cell_type": "markdown",
   "metadata": {},
   "source": [
    "Then the number of trajectories and other configurations are set:"
   ]
  },
  {
   "cell_type": "code",
   "execution_count": 48,
   "metadata": {},
   "outputs": [],
   "source": [
    "maboss_model.update_parameters(\n",
    "    sample_count=5000\n",
    ")\n",
    "# MC probabilmente vanno modificati altri parametri perché il file CFG fornito differisce da quello che genero io qui."
   ]
  },
  {
   "cell_type": "markdown",
   "metadata": {},
   "source": [
    "## Wild type simulation"
   ]
  },
  {
   "cell_type": "code",
   "execution_count": null,
   "metadata": {},
   "outputs": [],
   "source": [
    "# MC qui riproduco i grafici di figura 3."
   ]
  }
 ],
 "metadata": {
  "celltoolbar": "Tags",
  "kernelspec": {
   "display_name": "Python 3 (ipykernel)",
   "language": "python",
   "name": "python3"
  },
  "language_info": {
   "codemirror_mode": {
    "name": "ipython",
    "version": 3
   },
   "file_extension": ".py",
   "mimetype": "text/x-python",
   "name": "python",
   "nbconvert_exporter": "python",
   "pygments_lexer": "ipython3",
   "version": "3.9.16"
  }
 },
 "nbformat": 4,
 "nbformat_minor": 2
}
