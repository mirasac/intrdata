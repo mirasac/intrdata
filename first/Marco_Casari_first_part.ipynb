{
 "cells": [
  {
   "cell_type": "markdown",
   "metadata": {},
   "source": [
    "# Introduction to data analysis for natural and social sciences\n",
    "\n",
    "## Exam first part"
   ]
  },
  {
   "cell_type": "markdown",
   "metadata": {},
   "source": [
    "# Patient-specific Boolean models of signalling networks guide personalised treatments\n",
    "Additional files at page 24.\n",
    "Appendix at page 31.\n",
    "\n",
    "## Prostate Boolean model construction\n",
    "Results: 3\n",
    "\n",
    "Appendix: 31\n",
    "\n",
    "## Prostate Boolean model simulation\n",
    "Results: 6\n",
    "\n",
    "Appendix: 36\n",
    "\n",
    "## Personalisation of the prostate Boolean model\n",
    "Results: 6\n",
    "\n",
    "Appendix: 37\n",
    "\n",
    "## Personalised drug predictions of TCGA Boolean models\n",
    "Results: 7\n",
    "\n",
    "Appendix: 39\n",
    "\n",
    "## Personalised drug predictions of LNCaP Boolean model\n",
    "Results: 9\n",
    "\n",
    "Appendix: 41\n",
    "\n",
    "## Experimental validation of predicted targets\n",
    "Results: 10\n",
    "\n",
    "Appendix: 42\n",
    "\n",
    "## Experimental validation of drugs in LNCaP\n",
    "Results: 12\n",
    "\n",
    "Appendix: 43"
   ]
  },
  {
   "cell_type": "markdown",
   "metadata": {},
   "source": [
    "# Software\n",
    "\n",
    "## Initial generic network extension\n",
    "ROMA\n",
    "OmniPath\n",
    "\n",
    "GINsim\n",
    "\n",
    "## Datasets\n",
    "TGCA\n",
    "GDSC\n",
    "\n",
    "## Network visualization\n",
    "Cytoscape\n",
    "\n",
    "## Model simulation\n",
    "MaBoSS"
   ]
  },
  {
   "cell_type": "code",
   "execution_count": null,
   "metadata": {},
   "outputs": [],
   "source": []
  }
 ],
 "metadata": {
  "kernelspec": {
   "display_name": "Python 3 (ipykernel)",
   "language": "python",
   "name": "python3"
  },
  "language_info": {
   "codemirror_mode": {
    "name": "ipython",
    "version": 3
   },
   "file_extension": ".py",
   "mimetype": "text/x-python",
   "name": "python",
   "nbconvert_exporter": "python",
   "pygments_lexer": "ipython3",
   "version": "3.9.16"
  }
 },
 "nbformat": 4,
 "nbformat_minor": 2
}
